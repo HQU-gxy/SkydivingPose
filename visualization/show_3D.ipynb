{
 "cells": [
  {
   "cell_type": "code",
   "execution_count": 21,
   "metadata": {},
   "outputs": [
    {
     "name": "stdout",
     "output_type": "stream",
     "text": [
      "(77, 17, 3)\n",
      "(86, 17, 3)\n",
      "(79, 17, 3)\n",
      "(56, 17, 3)\n",
      "(65, 17, 3)\n",
      "(83, 17, 3)\n"
     ]
    }
   ],
   "source": [
    "import numpy as np\n",
    "import numpy as np\n",
    "import plotly.graph_objects as go\n",
    "from ipywidgets import widgets\n",
    "import plotly.graph_objs as go\n",
    "from ipywidgets import interact\n",
    "\n",
    "npz_dict = [\n",
    "    '../output/camera/leaving-pr-57/output_3D/output_keypoints_3d.npz',\n",
    "    '../output/camera/leaving-pr-55/output_3D/output_keypoints_3d.npz',\n",
    "    '../output/camera/leaving-pr-54/output_3D/output_keypoints_3d.npz',\n",
    "    '../output/camera/leaving-pr-53/output_3D/output_keypoints_3d.npz',\n",
    "    '../output/camera/leaving-pr-52/output_3D/output_keypoints_3d.npz',\n",
    "    '../output/camera/leaving-pr-51/output_3D/output_keypoints_3d.npz',\n",
    "]\n",
    "\n",
    "redata_index = [0,1,2,5]\n",
    "all_data = {}\n",
    "start_frame = 100\n",
    "for index, npz in enumerate(npz_dict):      # Load the data from the provided .npz file\n",
    "    data = np.load(npz)\n",
    "    # Inspect the shape and contents of the 'reconstruction' dataset\n",
    "    if index in redata_index:\n",
    "        reconstruction_data = data['reconstruction'][start_frame:]\n",
    "    else:\n",
    "        reconstruction_data = data['reconstruction']\n",
    "    \n",
    "    print(reconstruction_data.shape)\n",
    "    all_data[index] = reconstruction_data\n",
    "\n"
   ]
  },
  {
   "cell_type": "code",
   "execution_count": 22,
   "metadata": {},
   "outputs": [],
   "source": [
    "# 骨骼连接数据\n",
    "connections = [\n",
    "    [0, 1], [1, 2], [2, 3], [0, 4], [4, 5],\n",
    "    [5, 6], [0, 7], [7, 8], [8, 9], [9, 10],\n",
    "    [8, 11], [11, 12], [12, 13], [8, 14], [14, 15], [15, 16]\n",
    "]\n",
    "# 点的标签\n"
   ]
  },
  {
   "cell_type": "code",
   "execution_count": 23,
   "metadata": {},
   "outputs": [],
   "source": [
    "def calculate_angle_between_vectors(v1, v2):\n",
    "    \"\"\"Calculate the angle in degrees between two vectors.\"\"\"\n",
    "    unit_vector_1 = v1 / np.linalg.norm(v1)\n",
    "    unit_vector_2 = v2 / np.linalg.norm(v2)\n",
    "    dot_product = np.dot(unit_vector_1, unit_vector_2)\n",
    "    angle = np.arccos(dot_product)\n",
    "    return np.degrees(angle)\n",
    "\n",
    "\n",
    "# 添加角度显示到图形中\n",
    "def add_angle_display(fig, pos1, pos2, pos3, label):\n",
    "\n",
    "    vector1 = pos2 - pos1\n",
    "    vector2 = pos2 - pos3\n",
    "    angle = calculate_angle_between_vectors(vector1, vector2)\n",
    "    angle_text = f\"{angle:.2f}°\"\n",
    "\n",
    "    fig.add_trace(go.Scatter3d(\n",
    "        x=[pos2[0]],  \n",
    "        y=[pos2[2]],  # 适应您的轴设置\n",
    "        z=[-pos2[1]],\n",
    "        text=[angle_text],\n",
    "        mode='text',\n",
    "        textfont=dict(size=20),\n",
    "        textposition=\"top center\"\n",
    "    ))\n",
    "\n",
    "        # 计算中点  \n",
    "    midpoint1 = (pos1 + pos2) / 2  \n",
    "    midpoint2 = (pos2 + pos3) / 2  \n",
    "    \n",
    "    # 生成链接曲线  \n",
    "    t = np.linspace(0, 1, 100)  \n",
    "    curve_x = (1 - t) * midpoint1[0] + t * midpoint2[0]  \n",
    "    curve_y = (1 - t) * midpoint1[2] + t * midpoint2[2]  # 适应您的轴设置  \n",
    "    curve_z = -((1 - t) * midpoint1[1] + t * midpoint2[1])  \n",
    "    \n",
    "    fig.add_trace(go.Scatter3d(  \n",
    "        x=curve_x,  \n",
    "        y=curve_y,  \n",
    "        z=curve_z,  \n",
    "        mode='lines',  \n",
    "        line=dict(color='green', width=2)  \n",
    "    ))  \n",
    "\n",
    "# 添加角度显示到图形中\n",
    "def add_angle_displayV2(fig, pos1, pos2, vector2, label):\n",
    "    vector1 = pos2 - pos1\n",
    "    vector2 = vector2\n",
    "    angle = calculate_angle_between_vectors(vector1, vector2)\n",
    "    angle_text = f\"{angle:.2f}°\"\n",
    "    fig.add_trace(go.Scatter3d(\n",
    "        x=[pos2[0]],  \n",
    "        y=[pos2[2]],  # 适应您的轴设置\n",
    "        z=[-pos2[1]],\n",
    "        text=[angle_text],\n",
    "        mode='text',\n",
    "        textfont=dict(size=20),\n",
    "        textposition=\"top center\"\n",
    "    ))\n",
    "\n",
    "def get_joint_position(data, index):  \n",
    "    return data[index]  "
   ]
  },
  {
   "cell_type": "code",
   "execution_count": 24,
   "metadata": {},
   "outputs": [],
   "source": [
    "# 初始化FigureWidget\n",
    "# 初始化FigureWidget并设置尺寸  \n",
    "# 初始化FigureWidget并设置尺寸（使用数字而不是字符串）  \n",
    "fig = go.FigureWidget(  \n",
    "    layout={  \n",
    "        'width': 1000,  # 可以调整宽度，例如800, 1000等  \n",
    "        'height': 1500   # 可以调整高度，例如600, 800等  \n",
    "    }  \n",
    ")  \n",
    "\n",
    "# 设置布局\n",
    "fig.update_layout(scene=dict(\n",
    "                    xaxis=dict(title='X'),\n",
    "                    yaxis=dict(title='Y'),  # 确保y轴垂直方向\n",
    "                    zaxis=dict(title='Z')\n",
    "                ))\n",
    "\n",
    "\n",
    "labels = ['Hips', 'RightThigh', 'RightShin', 'RightFoot', 'LeftThigh', 'LeftShin', 'LeftFoot', 'Spine', 'Neck', 'UpperNeck', 'TopHead', 'LeftShoulder', 'LeftArm', 'LeftHand', 'RightShoulder', 'RightArm', 'RightHand']\n",
    "# 确保颜色被定义为字符串形式的rgb  \n",
    "colors_dict = {  \n",
    "    0: 'rgb(255, 0, 0)',    # 红色  \n",
    "    1: 'rgb(255, 165, 0)',  # 橙色  \n",
    "    2: 'rgb(255, 255, 0)',  # 黄色  \n",
    "    3: 'rgb(0, 128, 0)',    # 绿色  \n",
    "    4: 'rgb(0, 0, 255)',    # 蓝色  \n",
    "    5: 'rgb(128, 0, 128)'   # 紫色  \n",
    "}  "
   ]
  },
  {
   "cell_type": "code",
   "execution_count": 25,
   "metadata": {},
   "outputs": [],
   "source": [
    "import numpy as np  \n",
    "\n",
    "def align_left_right_thigh_per_frame(data, labels):  \n",
    "    \"\"\"  \n",
    "    Align the LeftThigh-RightThigh line to the x-axis direction for each frame.  \n",
    "    \n",
    "    :param data: The skeleton dataset for all frames, a numpy array of shape (n_frames, n_joints, 3).  \n",
    "    :param labels: List of joint labels to identify the indices for LeftThigh and RightThigh.  \n",
    "    :return: The aligned dataset for each frame.  \n",
    "    \"\"\"  \n",
    "    # 找到 'LeftThigh' 和 'RightThigh' 的索引  \n",
    "    left_thigh_index = labels.index('LeftThigh')  \n",
    "    right_thigh_index = labels.index('RightThigh')  \n",
    "\n",
    "    # 对每一帧的数据进行对齐  \n",
    "    for frame in range(data.shape[0]):  \n",
    "        # 计算大腿向量  \n",
    "        thigh_vector = data[frame, left_thigh_index] - data[frame, right_thigh_index]  \n",
    "        # 标准化大腿向量  \n",
    "        thigh_vector /= np.linalg.norm(thigh_vector)  \n",
    "\n",
    "        # 目标 x 轴方向  \n",
    "        target_vector_x = np.array([1, 0, 0])  \n",
    "        \n",
    "        # 计算旋转轴（即大腿向量与目标向量的叉积）  \n",
    "        axis = np.cross(thigh_vector, target_vector_x)  \n",
    "        \n",
    "        # 如果轴的模量非常小，意味着已经对齐或几乎对齐  \n",
    "        if np.linalg.norm(axis) > 1e-6:  \n",
    "            # 归一化旋转轴  \n",
    "            axis /= np.linalg.norm(axis)  \n",
    "            # 计算旋转角度  \n",
    "            angle = np.arccos(np.clip(np.dot(thigh_vector, target_vector_x), -1.0, 1.0))  \n",
    "            # 计算旋转矩阵  \n",
    "            K = np.array([[0, -axis[2], axis[1]], [axis[2], 0, -axis[0]], [-axis[1], axis[0], 0]])  \n",
    "            rotation_matrix = np.eye(3) + np.sin(angle) * K + (1 - np.cos(angle)) * np.dot(K, K)  \n",
    "            \n",
    "            # 应用旋转矩阵到当前帧的骨架数据  \n",
    "            data[frame] = np.dot(data[frame], rotation_matrix.T)  \n",
    "\n",
    "    return data"
   ]
  },
  {
   "cell_type": "code",
   "execution_count": 26,
   "metadata": {},
   "outputs": [
    {
     "name": "stdout",
     "output_type": "stream",
     "text": [
      "Alignment complete. Ready for further visualization or analysis.\n"
     ]
    }
   ],
   "source": [
    "# 确保定义了每个关节对应的标签列表  \n",
    "labels = ['Hips', 'RightThigh', 'RightShin', 'RightFoot', 'LeftThigh', 'LeftShin', 'LeftFoot', 'Spine', 'Neck', 'UpperNeck', 'TopHead', 'LeftShoulder', 'LeftArm', 'LeftHand', 'RightShoulder', 'RightArm', 'RightHand']\n",
    "\n",
    "\n",
    "# 对每个数据集进行对齐  \n",
    "aligned_data = {key: align_left_right_thigh_per_frame(data, labels) for key, data in all_data.items()}  \n",
    "\n",
    "print(\"Alignment complete. Ready for further visualization or analysis.\")"
   ]
  },
  {
   "cell_type": "code",
   "execution_count": 27,
   "metadata": {},
   "outputs": [
    {
     "name": "stdout",
     "output_type": "stream",
     "text": [
      "(77, 17, 3)\n"
     ]
    }
   ],
   "source": [
    "print(aligned_data[0].shape)"
   ]
  },
  {
   "cell_type": "code",
   "execution_count": 28,
   "metadata": {},
   "outputs": [],
   "source": [
    "all_data = aligned_data"
   ]
  },
  {
   "cell_type": "code",
   "execution_count": 29,
   "metadata": {},
   "outputs": [
    {
     "data": {
      "application/vnd.jupyter.widget-view+json": {
       "model_id": "1babc72470704329af42e818b47824a4",
       "version_major": 2,
       "version_minor": 0
      },
      "text/plain": [
       "HBox(children=(ToggleButton(value=True, description='Data 1', layout=Layout(width='100px')), ToggleButton(valu…"
      ]
     },
     "metadata": {},
     "output_type": "display_data"
    },
    {
     "data": {
      "application/vnd.jupyter.widget-view+json": {
       "model_id": "5c40e93922a64732ae8998f98c36bceb",
       "version_major": 2,
       "version_minor": 0
      },
      "text/plain": [
       "IntSlider(value=0, max=82)"
      ]
     },
     "metadata": {},
     "output_type": "display_data"
    },
    {
     "data": {
      "application/vnd.jupyter.widget-view+json": {
       "model_id": "6006d47e873342dfbb8cf63ec5a17bc7",
       "version_major": 2,
       "version_minor": 0
      },
      "text/plain": [
       "FigureWidget({\n",
       "    'data': [], 'layout': {'height': 1000, 'template': '...', 'width': 1000}\n",
       "})"
      ]
     },
     "metadata": {},
     "output_type": "display_data"
    }
   ],
   "source": [
    "import plotly.graph_objects as go  \n",
    "import numpy as np  \n",
    "import ipywidgets as widgets  \n",
    "from IPython.display import display  \n",
    "\n",
    "# 假设相关的数据和函数已定义，包括 npz_dict, colors, labels, get_joint_position。  \n",
    "\n",
    "# 初始化图形  \n",
    "fig = go.FigureWidget(  \n",
    "    layout={  \n",
    "        'width': 1000,  # 可以调整宽度，例如800, 1000等  \n",
    "        'height': 1000   # 可以调整高度，例如600, 800等  \n",
    "    }  \n",
    ")  \n",
    "\n",
    "# 更新你的 display_3D 函数，确保颜色作为字符串传递给 plotly  \n",
    "def display_3D(reconstruction_data, show_color, visible=True, index=0):  \n",
    "    frame_data = reconstruction_data[index]  \n",
    "    for connection in connections:  \n",
    "        x = [frame_data[connection[0], 0], frame_data[connection[1], 0]]  \n",
    "        y = [frame_data[connection[0], 2], frame_data[connection[1], 2]]  \n",
    "        z = [-frame_data[connection[0], 1], -frame_data[connection[1], 1]]  \n",
    "        fig.add_trace(go.Scatter3d(  \n",
    "            x=x, y=y, z=z,   \n",
    "            mode='lines',   \n",
    "            line=dict(color=show_color),   \n",
    "            showlegend=False  \n",
    "        ))  \n",
    "    \n",
    "    for i, label in enumerate(labels):  \n",
    "        fig.add_trace(go.Scatter3d(  \n",
    "            x=[frame_data[i, 0]],  \n",
    "            y=[frame_data[i, 2]],  \n",
    "            z=[-frame_data[i, 1]],  \n",
    "            mode='markers',  \n",
    "            marker=dict(size=10, color=show_color),  \n",
    "            name=label,  \n",
    "        ))  \n",
    "\n",
    "    # 示例：计算并显示大腿和小腿的角度\n",
    "    right_thigh_pos = get_joint_position(frame_data, labels.index('RightThigh'))\n",
    "    right_shin_pos = get_joint_position(frame_data, labels.index('RightShin'))\n",
    "    right_foot_pos = get_joint_position(frame_data, labels.index('RightFoot'))\n",
    "    \n",
    "    add_angle_display(fig, right_thigh_pos, right_shin_pos, right_foot_pos, \"Right Leg\")\n",
    "\n",
    "    # 示例：计算并显示大腿和小腿的角度\n",
    "    Hips_pos = get_joint_position(frame_data, labels.index('Hips'))\n",
    "    Head_pos = get_joint_position(frame_data, labels.index('Neck'))\n",
    "    vertical_vector =  np.array([0, 1, 0])  # 取默认的垂直向量 \n",
    "    \n",
    "    add_angle_displayV2(fig, Head_pos, Hips_pos, vertical_vector, \"Body\")\n",
    "    \n",
    "# 清空图形数据的函数  \n",
    "def clear_figure():  \n",
    "    fig.data = []  \n",
    "\n",
    "\n",
    "# Apply alignment to all datasets  \n",
    "# aligned_data = [align_left_right_thigh_per_frame(data, labels) for data in all_data]  \n",
    "\n",
    "# 按钮的回调函数  \n",
    "# 继续使用到 update_display 函数会使用这些颜色  \n",
    "def update_display(change):  \n",
    "    clear_figure()  \n",
    "    selected_indices = [i for i, toggle in enumerate(toggles) if toggle.value]  \n",
    "    for index in selected_indices:  \n",
    "        display_3D(all_data[index], show_color=colors_dict[index], visible=True, index=slider.value)  \n",
    "\n",
    "# 创建每个数据集的ToggleButtons  \n",
    "toggles = [widgets.ToggleButton(value=True, description=f'Data {i+1}', button_style='', layout=widgets.Layout(width='100px')) for i in range(len(npz_dict))]  \n",
    "\n",
    "# 为每个按钮添加观察者  \n",
    "for toggle in toggles:  \n",
    "    toggle.observe(update_display, names='value')  \n",
    "\n",
    "# 创建滑块  \n",
    "slider = widgets.IntSlider(min=0, max=reconstruction_data.shape[0] - 1, step=1, value=0)  \n",
    "slider.observe(update_display, names='value')  \n",
    "\n",
    "# 水平排列的ToggleButtons  \n",
    "toggle_box = widgets.HBox(toggles)  \n",
    "\n",
    "# 显示所有小部件和图形  \n",
    "display(toggle_box, slider, fig)  \n",
    "\n",
    "# 执行初始渲染  \n",
    "update_display(None)"
   ]
  },
  {
   "cell_type": "code",
   "execution_count": null,
   "metadata": {},
   "outputs": [],
   "source": []
  }
 ],
 "metadata": {
  "kernelspec": {
   "display_name": "base",
   "language": "python",
   "name": "python3"
  },
  "language_info": {
   "codemirror_mode": {
    "name": "ipython",
    "version": 3
   },
   "file_extension": ".py",
   "mimetype": "text/x-python",
   "name": "python",
   "nbconvert_exporter": "python",
   "pygments_lexer": "ipython3",
   "version": "3.11.5"
  }
 },
 "nbformat": 4,
 "nbformat_minor": 2
}
