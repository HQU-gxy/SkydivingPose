{
 "cells": [
  {
   "cell_type": "code",
   "execution_count": 2,
   "metadata": {},
   "outputs": [],
   "source": [
    "import os\n",
    "import sys\n",
    "from IPython.display import HTML\n",
    "sys.path.append(\"../\")\n",
    "from app.npybvh.bvh import Bvh\n",
    "import plotly.express as px\n",
    "import plotly.graph_objects as go\n",
    "from typeguard import typechecked\n",
    "from jaxtyping import Int, Float, Bool, Num, jaxtyped\n",
    "from pydantic import BaseModel\n",
    "from typing import Optional, Union\n",
    "from plotly.graph_objects import layout\n",
    "from ipywidgets import interact, interactive, fixed, interact_manual, interactive_output\n",
    "import ipywidgets as widgets\n",
    "from IPython.display import clear_output\n",
    "from dataclasses import dataclass\n",
    "import numpy as np"
   ]
  },
  {
   "cell_type": "code",
   "execution_count": 3,
   "metadata": {},
   "outputs": [
    {
     "name": "stdout",
     "output_type": "stream",
     "text": [
      "Hip\n",
      "RightHip\n",
      "RightKnee\n",
      "RightAnkle\n",
      "RightAnkle_end\n",
      "LeftHip\n",
      "LeftKnee\n",
      "LeftAnkle\n",
      "LeftAnkle_end\n",
      "Spine\n",
      "Thorax\n",
      "Neck\n",
      "Neck_end\n",
      "LeftShoulder\n",
      "LeftElbow\n",
      "LeftWrist\n",
      "LeftWrist_end\n",
      "RightShoulder\n",
      "RightElbow\n",
      "RightWrist\n",
      "RightWrist_end\n"
     ]
    }
   ],
   "source": [
    "anim = Bvh()\n",
    "anim.parse_file(\"/home/zlt/Documents/SkydivingPose/output/bvh/h36m_cxk.bvh\")\n",
    "joint = anim.joints\n",
    "for k, v in joint.items():\n",
    "    print(k)"
   ]
  },
  {
   "cell_type": "code",
   "execution_count": 4,
   "metadata": {},
   "outputs": [],
   "source": [
    "NDArray = np.ndarray\n",
    "number = Union[int, float]\n",
    "Color = tuple[int, int, int] | str\n",
    "Step = layout.slider.Step\n",
    "Slider = layout.Slider\n",
    "\n",
    "class Joint(BaseModel):\n",
    "    index: int\n",
    "    opposite_index: Optional[int] = None\n",
    "    name: str\n",
    "    color: Color\n",
    "\n",
    "# https://plotly.com/python-api-reference/generated/plotly.graph_objects.scatter3d.marker.html\n",
    "# plotly.graph_objects.scatter3d.Marker\n",
    "def to_rgb_str(color: tuple[int, int, int]) -> str:\n",
    "    return f\"rgb({color[0]},{color[1]},{color[2]})\"\n",
    "\n",
    "class Bone(BaseModel):\n",
    "    joint1: Joint\n",
    "    joint2: Joint\n",
    "    name: str\n",
    "    color: Color\n",
    "\n",
    "    @staticmethod\n",
    "    def from_indexes(joints: list[Joint], idx_1: int, idx_2: int, name: str,\n",
    "                     color: Color) -> \"Bone\":\n",
    "        return Bone(joint1=joints[idx_1],\n",
    "                    joint2=joints[idx_2],\n",
    "                    name=name,\n",
    "                    color=color)\n",
    "\n",
    "COLOR_SPINE = to_rgb_str((138, 201, 38))  # green, spine & head\n",
    "COLOR_ARMS = to_rgb_str((255, 202, 58))  # yellow, arms & shoulders\n",
    "COLOR_LEGS = to_rgb_str((25, 130, 196))  # blue, legs & hips\n",
    "COLOR_FINGERS = to_rgb_str((255, 0, 0))  # red, fingers\n",
    "COLOR_HANDS = COLOR_FINGERS\n",
    "CIRCLE_SIZE = 2\n",
    "LINE_WIDTH = 3"
   ]
  },
  {
   "cell_type": "code",
   "execution_count": 5,
   "metadata": {},
   "outputs": [],
   "source": [
    "joints_map_list = [  \n",
    "    Joint(index=0, name=\"Hip\", color=COLOR_SPINE),  \n",
    "    Joint(index=1, name=\"RightHip\", color=COLOR_LEGS),  \n",
    "    Joint(index=2, name=\"RightKnee\", color=COLOR_LEGS),  \n",
    "    Joint(index=3, name=\"RightAnkle\", color=COLOR_LEGS),  \n",
    "    Joint(index=4, name=\"RightAnkle_end\", color=COLOR_LEGS),  \n",
    "    Joint(index=5, name=\"LeftHip\", color=COLOR_LEGS),  \n",
    "    Joint(index=6, name=\"LeftKnee\", color=COLOR_LEGS),  \n",
    "    Joint(index=7, name=\"LeftAnkle\", color=COLOR_LEGS),  \n",
    "    Joint(index=8, name=\"LeftAnkle_end\", color=COLOR_LEGS),  \n",
    "    Joint(index=9, name=\"Spine\", color=COLOR_SPINE),  \n",
    "    Joint(index=10, name=\"Thorax\", color=COLOR_SPINE),  \n",
    "    Joint(index=11, name=\"Neck\", color=COLOR_SPINE),  \n",
    "    Joint(index=12, name=\"Neck_end\", color=COLOR_SPINE),  \n",
    "    Joint(index=13, name=\"LeftShoulder\", color=COLOR_ARMS),  \n",
    "    Joint(index=14, name=\"LeftElbow\", color=COLOR_ARMS),  \n",
    "    Joint(index=15, name=\"LeftWrist\", color=COLOR_ARMS),  \n",
    "    Joint(index=16, name=\"LeftWrist_end\", color=COLOR_ARMS),  \n",
    "    Joint(index=17, name=\"RightShoulder\", color=COLOR_ARMS),  \n",
    "    Joint(index=18, name=\"RightElbow\", color=COLOR_ARMS),  \n",
    "    Joint(index=19, name=\"RightWrist\", color=COLOR_ARMS),  \n",
    "    Joint(index=20, name=\"RightWrist_end\", color=COLOR_ARMS),  \n",
    "]"
   ]
  },
  {
   "cell_type": "code",
   "execution_count": 6,
   "metadata": {},
   "outputs": [],
   "source": [
    "from typing import Callable\n",
    "\n",
    "\n",
    "@dataclass\n",
    "class PayloadJoint:\n",
    "    joint: Joint\n",
    "    payload: Num[NDArray, \"F 1 3\"]\n",
    "\n",
    "    @staticmethod\n",
    "    def from_stacked(joint: Joint, payload: Num[NDArray,\n",
    "                                                \"F J 3\"]) -> \"PayloadJoint\":\n",
    "        assert payload.shape[2] == 3, \"must be 3D coordinates\"\n",
    "        assert len(payload.shape) == 3, \"must be (frames, joints, coordinates)\"\n",
    "        idx = joint.index\n",
    "        p = payload[:, idx].reshape(-1, 1, 3)\n",
    "        return PayloadJoint(joint=joint, payload=p)\n",
    "\n",
    "    def create_scatter(self, frame: int) -> go.Scatter3d:\n",
    "        total = self.payload.shape[0]\n",
    "        assert frame < total, f\"frame {frame} out of range {total}\"\n",
    "        return go.Scatter3d(x=[self.payload[frame, 0, 0]],\n",
    "                            y=[self.payload[frame, 0, 1]],\n",
    "                            z=[self.payload[frame, 0, 2]],\n",
    "                            mode=\"markers\",\n",
    "                            marker=dict(size=CIRCLE_SIZE,\n",
    "                                        color=self.joint.color),\n",
    "                            name=self.joint.name)\n",
    "\n",
    "\n",
    "@dataclass\n",
    "class PayloadBone:\n",
    "    bone: Bone\n",
    "    payload: Num[NDArray, \"F 1 2 3\"]\n",
    "\n",
    "    @staticmethod\n",
    "    def from_stacked(bone: Bone, payload: Num[NDArray,\n",
    "                                              \"F J 3\"]) -> \"PayloadBone\":\n",
    "        assert payload.shape[2] == 3, \"must be 3D coordinates\"\n",
    "        assert len(payload.shape) == 3, \"must be (frames, joints, coordinates)\"\n",
    "        idx1 = bone.joint1.index\n",
    "        idx2 = bone.joint2.index\n",
    "        payload_1 = payload[:, idx1].reshape(-1, 1, 1, 3)\n",
    "        payload_2 = payload[:, idx2].reshape(-1, 1, 1, 3)\n",
    "        return PayloadBone(bone=bone,\n",
    "                           payload=np.concatenate([payload_1, payload_2],\n",
    "                                                  axis=2))\n",
    "\n",
    "    def create_lines(self, frame: int) -> go.Scatter3d:\n",
    "        total = self.payload.shape[0]\n",
    "        assert frame < total, f\"frame {frame} out of range {total}\"\n",
    "        return go.Scatter3d(x=self.payload[frame, 0, :, 0].T,\n",
    "                            y=self.payload[frame, 0, :, 1].T,\n",
    "                            z=self.payload[frame, 0, :, 2].T,\n",
    "                            mode=\"lines\",\n",
    "                            line=dict(width=LINE_WIDTH, color=self.bone.color),\n",
    "                            name=self.bone.name)\n",
    "\n",
    "\n",
    "@dataclass\n",
    "class Skeleton:\n",
    "    bone_schema: list[Bone]\n",
    "    joint_schema: list[Joint]\n",
    "    joints: list[PayloadJoint]\n",
    "    bones: list[PayloadBone]\n",
    "\n",
    "    @staticmethod\n",
    "    def from_stacked(joints: list[Joint], bones: list[Bone],\n",
    "                     payload: Num[NDArray, \"F J 3\"]) -> \"Skeleton\":\n",
    "        return Skeleton(\n",
    "            bone_schema=bones,\n",
    "            joint_schema=joints,\n",
    "            joints=[\n",
    "                PayloadJoint.from_stacked(joint, payload) for joint in joints\n",
    "            ],\n",
    "            bones=[PayloadBone.from_stacked(bone, payload) for bone in bones])\n",
    "\n",
    "    @jaxtyped(typechecker=typechecked)\n",
    "    def to_stacked_joints(self) -> Num[NDArray, \"F J 3\"]:\n",
    "        return np.stack([joint.payload for joint in self.joints], axis=1)\n",
    "\n",
    "    @jaxtyped(typechecker=typechecked)\n",
    "    def to_stacked_bones(self) -> Num[NDArray, \"F J 2 3\"]:\n",
    "        return np.stack([bone.payload for bone in self.bones], axis=1)\n",
    "\n",
    "    @property\n",
    "    def total_frames(self) -> int:\n",
    "        return self.joints[0].payload.shape[0]\n",
    "    \n",
    "    def get_joint_by_name(self, name: str) -> PayloadJoint:  \n",
    "        for joint in self.joints:  \n",
    "            if joint.joint.name == name:  \n",
    "                return joint  \n",
    "        raise ValueError(f\"Joint with name {name} not found\")  \n",
    "    \n",
    "    def filter(self, predicate: Callable[[str], bool]) -> \"Skeleton\":\n",
    "        \"\"\"\n",
    "        filter joints and bones by name\n",
    "        \"\"\"\n",
    "        joints = [joint for joint in self.joints if predicate(joint.joint.name)]\n",
    "        bones = [bone for bone in self.bones if predicate(bone.bone.name)]\n",
    "        bs = [bone for bone in self.bone_schema if predicate(bone.name)]\n",
    "        js = [joint for joint in self.joint_schema if predicate(joint.name)]\n",
    "        return Skeleton(joints=joints,\n",
    "                        bones=bones,\n",
    "                        joint_schema=js,\n",
    "                        bone_schema=bs)\n"
   ]
  },
  {
   "cell_type": "code",
   "execution_count": 7,
   "metadata": {},
   "outputs": [
    {
     "data": {
      "text/plain": [
       "(30, 21, 3)"
      ]
     },
     "metadata": {},
     "output_type": "display_data"
    }
   ],
   "source": [
    "pos, rot = anim.all_frame_poses()\n",
    "display(pos.shape)"
   ]
  },
  {
   "cell_type": "code",
   "execution_count": 8,
   "metadata": {},
   "outputs": [],
   "source": [
    "@jaxtyped(typechecker=typechecked)\n",
    "def preprocess_data(pos: Num[NDArray, \"F J 3\"]) -> Num[NDArray, \"F J 3\"]:\n",
    "    pre = pos.copy()\n",
    "    pre = np.concatenate([pre[:, :, 0:1], pre[:, :, 2:3], pre[:, :, 1:2]], axis=2)\n",
    "    return pre"
   ]
  },
  {
   "cell_type": "code",
   "execution_count": 11,
   "metadata": {},
   "outputs": [],
   "source": [
    "joints_map_list = [  \n",
    "    Joint(index=0, name=\"Hip\", color=COLOR_SPINE),  \n",
    "    Joint(index=1, name=\"RightHip\", color=COLOR_LEGS),  \n",
    "    Joint(index=2, name=\"RightKnee\", color=COLOR_LEGS),  \n",
    "    Joint(index=3, name=\"RightAnkle\", color=COLOR_LEGS),  \n",
    "    Joint(index=4, name=\"RightAnkle_end\", color=COLOR_LEGS),  \n",
    "    Joint(index=5, name=\"LeftHip\", color=COLOR_LEGS),  \n",
    "    Joint(index=6, name=\"LeftKnee\", color=COLOR_LEGS),  \n",
    "    Joint(index=7, name=\"LeftAnkle\", color=COLOR_LEGS),  \n",
    "    Joint(index=8, name=\"LeftAnkle_end\", color=COLOR_LEGS),  \n",
    "    Joint(index=9, name=\"Spine\", color=COLOR_SPINE),  \n",
    "    Joint(index=10, name=\"Thorax\", color=COLOR_SPINE),  \n",
    "    Joint(index=11, name=\"Neck\", color=COLOR_SPINE),  \n",
    "    Joint(index=12, name=\"Neck_end\", color=COLOR_SPINE),  \n",
    "    Joint(index=13, name=\"LeftShoulder\", color=COLOR_ARMS),  \n",
    "    Joint(index=14, name=\"LeftElbow\", color=COLOR_ARMS),  \n",
    "    Joint(index=15, name=\"LeftWrist\", color=COLOR_ARMS),  \n",
    "    Joint(index=16, name=\"LeftWrist_end\", color=COLOR_ARMS),  \n",
    "    Joint(index=17, name=\"RightShoulder\", color=COLOR_ARMS),  \n",
    "    Joint(index=18, name=\"RightElbow\", color=COLOR_ARMS),  \n",
    "    Joint(index=19, name=\"RightWrist\", color=COLOR_ARMS),  \n",
    "    Joint(index=20, name=\"RightWrist_end\", color=COLOR_ARMS),  \n",
    "]"
   ]
  },
  {
   "cell_type": "code",
   "execution_count": 12,
   "metadata": {},
   "outputs": [],
   "source": [
    "bone_map_lists = [  \n",
    "    # Spine  \n",
    "    Bone.from_indexes(joints_map_list, 0, 9, \"hip_to_spine\", COLOR_SPINE),  \n",
    "    Bone.from_indexes(joints_map_list, 9, 10, \"spine_to_thorax\", COLOR_SPINE),  \n",
    "    Bone.from_indexes(joints_map_list, 10, 11, \"thorax_to_neck\", COLOR_SPINE),  \n",
    "    Bone.from_indexes(joints_map_list, 11, 12, \"neck_to_neck_end\", COLOR_SPINE),  \n",
    "\n",
    "    # Right Arm  \n",
    "    Bone.from_indexes(joints_map_list, 10, 17, \"thorax_to_right_shoulder\", COLOR_ARMS),  \n",
    "    Bone.from_indexes(joints_map_list, 17, 18, \"right_shoulder_to_elbow\", COLOR_ARMS),  \n",
    "    Bone.from_indexes(joints_map_list, 18, 19, \"right_elbow_to_wrist\", COLOR_ARMS),  \n",
    "    Bone.from_indexes(joints_map_list, 19, 20, \"right_wrist_to_end\", COLOR_ARMS),  \n",
    "\n",
    "    # Left Arm  \n",
    "    Bone.from_indexes(joints_map_list, 10, 13, \"thorax_to_left_shoulder\", COLOR_ARMS),  \n",
    "    Bone.from_indexes(joints_map_list, 13, 14, \"left_shoulder_to_elbow\", COLOR_ARMS),  \n",
    "    Bone.from_indexes(joints_map_list, 14, 15, \"left_elbow_to_wrist\", COLOR_ARMS),  \n",
    "    Bone.from_indexes(joints_map_list, 15, 16, \"left_wrist_to_end\", COLOR_ARMS),  \n",
    "\n",
    "    # Right Leg  \n",
    "    Bone.from_indexes(joints_map_list, 0, 1, \"hip_to_right_hip\", COLOR_LEGS),  \n",
    "    Bone.from_indexes(joints_map_list, 1, 2, \"right_hip_to_knee\", COLOR_LEGS),  \n",
    "    Bone.from_indexes(joints_map_list, 2, 3, \"right_knee_to_ankle\", COLOR_LEGS),  \n",
    "    Bone.from_indexes(joints_map_list, 3, 4, \"right_ankle_to_end\", COLOR_LEGS),  \n",
    "\n",
    "    # Left Leg  \n",
    "    Bone.from_indexes(joints_map_list, 0, 5, \"hip_to_left_hip\", COLOR_LEGS),  \n",
    "    Bone.from_indexes(joints_map_list, 5, 6, \"left_hip_to_knee\", COLOR_LEGS),  \n",
    "    Bone.from_indexes(joints_map_list, 6, 7, \"left_knee_to_ankle\", COLOR_LEGS),  \n",
    "    Bone.from_indexes(joints_map_list, 7, 8, \"left_ankle_to_end\", COLOR_LEGS),  \n",
    "]"
   ]
  },
  {
   "cell_type": "code",
   "execution_count": 13,
   "metadata": {},
   "outputs": [],
   "source": [
    "pre = preprocess_data(pos)\n",
    "sk = Skeleton.from_stacked(joints_map_list, bone_map_lists, pre)\n",
    "\n",
    "def filter_by_name(name: str) -> bool:\n",
    "    if \"finger\" in name.lower():\n",
    "        return False\n",
    "    if \"index\" in name.lower():\n",
    "        return False\n",
    "    if \"middle\" in name.lower():\n",
    "        return False\n",
    "    if \"ring\" in name.lower():\n",
    "        return False\n",
    "    if \"thumb\" in name.lower():\n",
    "        return False\n",
    "    if \"pinky\" in name.lower():\n",
    "        return False\n",
    "    if \"tip\" in name.lower():\n",
    "        return False\n",
    "    return True\n",
    "\n",
    "sk_f = sk.filter(filter_by_name)"
   ]
  },
  {
   "cell_type": "code",
   "execution_count": 15,
   "metadata": {},
   "outputs": [
    {
     "data": {
      "application/vnd.jupyter.widget-view+json": {
       "model_id": "be97d4ced41e462babc3b840d2c27cb1",
       "version_major": 2,
       "version_minor": 0
      },
      "text/plain": [
       "interactive(children=(IntSlider(value=0, description='index', max=29), Output()), _dom_classes=('widget-intera…"
      ]
     },
     "metadata": {},
     "output_type": "display_data"
    },
    {
     "data": {
      "application/vnd.plotly.v1+json": {
       "config": {
        "plotlyServerURL": "https://plot.ly"
       },
       "data": [
        {
         "marker": {
          "color": "rgb(138,201,38)",
          "size": 2
         },
         "mode": "markers",
         "name": "Hip",
         "type": "scatter3d",
         "uid": "f286904e-bff9-48f1-b13b-735d6c7d3533",
         "x": [
          0
         ],
         "y": [
          0.7627056241035461
         ],
         "z": [
          0
         ]
        },
        {
         "marker": {
          "color": "rgb(25,130,196)",
          "size": 2
         },
         "mode": "markers",
         "name": "RightHip",
         "type": "scatter3d",
         "uid": "16f3f9f8-b4cd-49d2-bc63-17a3f1a7330e",
         "x": [
          0.112182110618332
         ],
         "y": [
          0.7542983353410851
         ],
         "z": [
          -0.0586381940635674
         ]
        },
        {
         "marker": {
          "color": "rgb(25,130,196)",
          "size": 2
         },
         "mode": "markers",
         "name": "RightKnee",
         "type": "scatter3d",
         "uid": "d0edf0d6-c734-4697-bd78-8b1d16233534",
         "x": [
          0.23246025821194366
         ],
         "y": [
          0.44074740675023444
         ],
         "z": [
          0.1481080206121507
         ]
        },
        {
         "marker": {
          "color": "rgb(25,130,196)",
          "size": 2
         },
         "mode": "markers",
         "name": "RightAnkle",
         "type": "scatter3d",
         "uid": "749b3135-d679-413d-9205-eb38f409267a",
         "x": [
          0.21916856605130747
         ],
         "y": [
          -0.006219144815673816
         ],
         "z": [
          0.04530183209658464
         ]
        },
        {
         "marker": {
          "color": "rgb(25,130,196)",
          "size": 2
         },
         "mode": "markers",
         "name": "RightAnkle_end",
         "type": "scatter3d",
         "uid": "b433ccf1-c43d-4a80-8dbc-40de0e66b80e",
         "x": [
          0.3076803753330442
         ],
         "y": [
          -0.04475379168883922
         ],
         "z": [
          0.20139386059081504
         ]
        },
        {
         "marker": {
          "color": "rgb(25,130,196)",
          "size": 2
         },
         "mode": "markers",
         "name": "LeftHip",
         "type": "scatter3d",
         "uid": "263a50b7-0ad3-49d6-b72e-75a20249ab71",
         "x": [
          -0.112182110618332
         ],
         "y": [
          0.7711129128660071
         ],
         "z": [
          0.0586381940635674
         ]
        },
        {
         "marker": {
          "color": "rgb(25,130,196)",
          "size": 2
         },
         "mode": "markers",
         "name": "LeftKnee",
         "type": "scatter3d",
         "uid": "a14f8f33-bea2-4365-949f-413987ed5d8f",
         "x": [
          -0.030024759891513028
         ],
         "y": [
          0.49346823955422336
         ],
         "z": [
          0.32638550029579994
         ]
        },
        {
         "marker": {
          "color": "rgb(25,130,196)",
          "size": 2
         },
         "mode": "markers",
         "name": "LeftAnkle",
         "type": "scatter3d",
         "uid": "55224e45-6950-4dff-8f0d-b44b30134edf",
         "x": [
          -0.05615523207673964
         ],
         "y": [
          0.04278055541630221
         ],
         "z": [
          0.2443934916237018
         ]
        },
        {
         "marker": {
          "color": "rgb(25,130,196)",
          "size": 2
         },
         "mode": "markers",
         "name": "LeftAnkle_end",
         "type": "scatter3d",
         "uid": "964c47bf-7c3c-4948-b812-b0ddef336f2b",
         "x": [
          -0.0026827281728655644
         ],
         "y": [
          0.008359392685773619
         ],
         "z": [
          0.41655578608430194
         ]
        },
        {
         "marker": {
          "color": "rgb(138,201,38)",
          "size": 2
         },
         "mode": "markers",
         "name": "Spine",
         "type": "scatter3d",
         "uid": "c8e99c43-54fc-4740-b583-840748c5f416",
         "x": [
          0.08187455216485662
         ],
         "y": [
          0.8602397450694805
         ],
         "z": [
          0.1426521174844318
         ]
        },
        {
         "marker": {
          "color": "rgb(138,201,38)",
          "size": 2
         },
         "mode": "markers",
         "name": "Thorax",
         "type": "scatter3d",
         "uid": "0efb7760-1bdf-4ff9-a868-4bda0753627c",
         "x": [
          0.21257928662893477
         ],
         "y": [
          0.8705849629067799
         ],
         "z": [
          0.36088667360800025
         ]
        },
        {
         "marker": {
          "color": "rgb(138,201,38)",
          "size": 2
         },
         "mode": "markers",
         "name": "Neck",
         "type": "scatter3d",
         "uid": "e42acaa8-ec2d-47a7-a111-64dc4ebb8844",
         "x": [
          0.27162433302131206
         ],
         "y": [
          0.8752583503678169
         ],
         "z": [
          0.4594727695407177
         ]
        },
        {
         "marker": {
          "color": "rgb(138,201,38)",
          "size": 2
         },
         "mode": "markers",
         "name": "Neck_end",
         "type": "scatter3d",
         "uid": "0371e734-e2c8-4baf-a300-05a525f2322a",
         "x": [
          0.28680858896818134
         ],
         "y": [
          0.8515800463983613
         ],
         "z": [
          0.495875468765982
         ]
        },
        {
         "marker": {
          "color": "rgb(255,202,58)",
          "size": 2
         },
         "mode": "markers",
         "name": "LeftShoulder",
         "type": "scatter3d",
         "uid": "4598f134-1f95-4a03-aa4c-f08dad87fe31",
         "x": [
          0.07799098696683782
         ],
         "y": [
          0.8437179949151661
         ],
         "z": [
          0.44276771446245244
         ]
        },
        {
         "marker": {
          "color": "rgb(255,202,58)",
          "size": 2
         },
         "mode": "markers",
         "name": "LeftElbow",
         "type": "scatter3d",
         "uid": "caa4fd9b-e739-4ae3-9174-5b4c8ec01f1b",
         "x": [
          -0.045111375076001436
         ],
         "y": [
          0.6204124305820752
         ],
         "z": [
          0.31055929058645093
         ]
        },
        {
         "marker": {
          "color": "rgb(255,202,58)",
          "size": 2
         },
         "mode": "markers",
         "name": "LeftWrist",
         "type": "scatter3d",
         "uid": "d7557b4b-f39f-4300-a548-9d7edef7a9ab",
         "x": [
          0.12023376406302044
         ],
         "y": [
          0.6494634232608485
         ],
         "z": [
          0.2574238845706868
         ]
        },
        {
         "marker": {
          "color": "rgb(255,202,58)",
          "size": 2
         },
         "mode": "markers",
         "name": "LeftWrist_end",
         "type": "scatter3d",
         "uid": "d5af1d17-d309-4b3d-b494-1c01d44b5bb3",
         "x": [
          0.1863718197186292
         ],
         "y": [
          0.6610838203323578
         ],
         "z": [
          0.23616972216438117
         ]
        },
        {
         "marker": {
          "color": "rgb(255,202,58)",
          "size": 2
         },
         "mode": "markers",
         "name": "RightShoulder",
         "type": "scatter3d",
         "uid": "44891df4-be18-4d56-8f92-5cab2ae4e006",
         "x": [
          0.3471675862910317
         ],
         "y": [
          0.8974519308983937
         ],
         "z": [
          0.27900563275354806
         ]
        },
        {
         "marker": {
          "color": "rgb(255,202,58)",
          "size": 2
         },
         "mode": "markers",
         "name": "RightElbow",
         "type": "scatter3d",
         "uid": "050f4530-aa63-4484-97f2-3478e990208e",
         "x": [
          0.3889016155313337
         ],
         "y": [
          0.757432288100343
         ],
         "z": [
          0.03171753279623335
         ]
        },
        {
         "marker": {
          "color": "rgb(255,202,58)",
          "size": 2
         },
         "mode": "markers",
         "name": "RightWrist",
         "type": "scatter3d",
         "uid": "daef7807-c2e4-4bfc-ad9a-d8c23f5c414b",
         "x": [
          0.30375179641039624
         ],
         "y": [
          0.6464033678503582
         ],
         "z": [
          0.13862138565841461
         ]
        },
        {
         "marker": {
          "color": "rgb(255,202,58)",
          "size": 2
         },
         "mode": "markers",
         "name": "RightWrist_end",
         "type": "scatter3d",
         "uid": "197c9ef0-7fb3-438d-8195-0ffe1b3f4f3d",
         "x": [
          0.2696918687620212
         ],
         "y": [
          0.6019917997503643
         ],
         "z": [
          0.18138292680328713
         ]
        },
        {
         "line": {
          "color": "rgb(138,201,38)",
          "width": 3
         },
         "mode": "lines",
         "name": "hip_to_spine",
         "type": "scatter3d",
         "uid": "a9f35971-58d5-426d-849b-9a4a8a31ed74",
         "x": [
          0,
          0.08187455216485662
         ],
         "y": [
          0.7627056241035461,
          0.8602397450694805
         ],
         "z": [
          0,
          0.1426521174844318
         ]
        },
        {
         "line": {
          "color": "rgb(138,201,38)",
          "width": 3
         },
         "mode": "lines",
         "name": "spine_to_thorax",
         "type": "scatter3d",
         "uid": "78e57ad1-4f33-40ed-80ec-5ee7be535104",
         "x": [
          0.08187455216485662,
          0.21257928662893477
         ],
         "y": [
          0.8602397450694805,
          0.8705849629067799
         ],
         "z": [
          0.1426521174844318,
          0.36088667360800025
         ]
        },
        {
         "line": {
          "color": "rgb(138,201,38)",
          "width": 3
         },
         "mode": "lines",
         "name": "thorax_to_neck",
         "type": "scatter3d",
         "uid": "989058df-fbd2-4678-94d7-850e4272b963",
         "x": [
          0.21257928662893477,
          0.27162433302131206
         ],
         "y": [
          0.8705849629067799,
          0.8752583503678169
         ],
         "z": [
          0.36088667360800025,
          0.4594727695407177
         ]
        },
        {
         "line": {
          "color": "rgb(138,201,38)",
          "width": 3
         },
         "mode": "lines",
         "name": "neck_to_neck_end",
         "type": "scatter3d",
         "uid": "d925889c-6538-4f21-8668-df5cebdabbf5",
         "x": [
          0.27162433302131206,
          0.28680858896818134
         ],
         "y": [
          0.8752583503678169,
          0.8515800463983613
         ],
         "z": [
          0.4594727695407177,
          0.495875468765982
         ]
        },
        {
         "line": {
          "color": "rgb(255,202,58)",
          "width": 3
         },
         "mode": "lines",
         "name": "thorax_to_right_shoulder",
         "type": "scatter3d",
         "uid": "9cb2fb22-4acc-44e4-8cc4-bcbb21bf6ec4",
         "x": [
          0.21257928662893477,
          0.3471675862910317
         ],
         "y": [
          0.8705849629067799,
          0.8974519308983937
         ],
         "z": [
          0.36088667360800025,
          0.27900563275354806
         ]
        },
        {
         "line": {
          "color": "rgb(255,202,58)",
          "width": 3
         },
         "mode": "lines",
         "name": "right_shoulder_to_elbow",
         "type": "scatter3d",
         "uid": "c3dee886-e6f3-4a4b-9142-c8ffad172513",
         "x": [
          0.3471675862910317,
          0.3889016155313337
         ],
         "y": [
          0.8974519308983937,
          0.757432288100343
         ],
         "z": [
          0.27900563275354806,
          0.03171753279623335
         ]
        },
        {
         "line": {
          "color": "rgb(255,202,58)",
          "width": 3
         },
         "mode": "lines",
         "name": "right_elbow_to_wrist",
         "type": "scatter3d",
         "uid": "875ed04f-e6b1-4541-a9bb-37fc9bdc2015",
         "x": [
          0.3889016155313337,
          0.30375179641039624
         ],
         "y": [
          0.757432288100343,
          0.6464033678503582
         ],
         "z": [
          0.03171753279623335,
          0.13862138565841461
         ]
        },
        {
         "line": {
          "color": "rgb(255,202,58)",
          "width": 3
         },
         "mode": "lines",
         "name": "right_wrist_to_end",
         "type": "scatter3d",
         "uid": "a966b760-f510-484b-8ad4-416743c2ffce",
         "x": [
          0.30375179641039624,
          0.2696918687620212
         ],
         "y": [
          0.6464033678503582,
          0.6019917997503643
         ],
         "z": [
          0.13862138565841461,
          0.18138292680328713
         ]
        },
        {
         "line": {
          "color": "rgb(255,202,58)",
          "width": 3
         },
         "mode": "lines",
         "name": "thorax_to_left_shoulder",
         "type": "scatter3d",
         "uid": "e68eb0f5-eedb-4814-b934-8389cf440793",
         "x": [
          0.21257928662893477,
          0.07799098696683782
         ],
         "y": [
          0.8705849629067799,
          0.8437179949151661
         ],
         "z": [
          0.36088667360800025,
          0.44276771446245244
         ]
        },
        {
         "line": {
          "color": "rgb(255,202,58)",
          "width": 3
         },
         "mode": "lines",
         "name": "left_shoulder_to_elbow",
         "type": "scatter3d",
         "uid": "c8ea202c-b80a-48b9-84e9-8cc86ab16cde",
         "x": [
          0.07799098696683782,
          -0.045111375076001436
         ],
         "y": [
          0.8437179949151661,
          0.6204124305820752
         ],
         "z": [
          0.44276771446245244,
          0.31055929058645093
         ]
        },
        {
         "line": {
          "color": "rgb(255,202,58)",
          "width": 3
         },
         "mode": "lines",
         "name": "left_elbow_to_wrist",
         "type": "scatter3d",
         "uid": "66fb092c-f163-4526-b8fb-e72146219594",
         "x": [
          -0.045111375076001436,
          0.12023376406302044
         ],
         "y": [
          0.6204124305820752,
          0.6494634232608485
         ],
         "z": [
          0.31055929058645093,
          0.2574238845706868
         ]
        },
        {
         "line": {
          "color": "rgb(255,202,58)",
          "width": 3
         },
         "mode": "lines",
         "name": "left_wrist_to_end",
         "type": "scatter3d",
         "uid": "93722d1a-09c9-487d-a757-190e631b2ecb",
         "x": [
          0.12023376406302044,
          0.1863718197186292
         ],
         "y": [
          0.6494634232608485,
          0.6610838203323578
         ],
         "z": [
          0.2574238845706868,
          0.23616972216438117
         ]
        },
        {
         "line": {
          "color": "rgb(25,130,196)",
          "width": 3
         },
         "mode": "lines",
         "name": "hip_to_right_hip",
         "type": "scatter3d",
         "uid": "8fb39244-4fa8-4f26-8cd6-a5314281be9d",
         "x": [
          0,
          0.112182110618332
         ],
         "y": [
          0.7627056241035461,
          0.7542983353410851
         ],
         "z": [
          0,
          -0.0586381940635674
         ]
        },
        {
         "line": {
          "color": "rgb(25,130,196)",
          "width": 3
         },
         "mode": "lines",
         "name": "right_hip_to_knee",
         "type": "scatter3d",
         "uid": "4955eb27-477c-4cbe-b36a-185b0677b267",
         "x": [
          0.112182110618332,
          0.23246025821194366
         ],
         "y": [
          0.7542983353410851,
          0.44074740675023444
         ],
         "z": [
          -0.0586381940635674,
          0.1481080206121507
         ]
        },
        {
         "line": {
          "color": "rgb(25,130,196)",
          "width": 3
         },
         "mode": "lines",
         "name": "right_knee_to_ankle",
         "type": "scatter3d",
         "uid": "e1f5bdfe-6e6d-4eb0-8ddb-f0faad88111f",
         "x": [
          0.23246025821194366,
          0.21916856605130747
         ],
         "y": [
          0.44074740675023444,
          -0.006219144815673816
         ],
         "z": [
          0.1481080206121507,
          0.04530183209658464
         ]
        },
        {
         "line": {
          "color": "rgb(25,130,196)",
          "width": 3
         },
         "mode": "lines",
         "name": "right_ankle_to_end",
         "type": "scatter3d",
         "uid": "67e2c119-d666-4cda-a772-bf22f9447029",
         "x": [
          0.21916856605130747,
          0.3076803753330442
         ],
         "y": [
          -0.006219144815673816,
          -0.04475379168883922
         ],
         "z": [
          0.04530183209658464,
          0.20139386059081504
         ]
        },
        {
         "line": {
          "color": "rgb(25,130,196)",
          "width": 3
         },
         "mode": "lines",
         "name": "hip_to_left_hip",
         "type": "scatter3d",
         "uid": "5aa6ccbb-d256-4dfa-b8f3-207e7b715380",
         "x": [
          0,
          -0.112182110618332
         ],
         "y": [
          0.7627056241035461,
          0.7711129128660071
         ],
         "z": [
          0,
          0.0586381940635674
         ]
        },
        {
         "line": {
          "color": "rgb(25,130,196)",
          "width": 3
         },
         "mode": "lines",
         "name": "left_hip_to_knee",
         "type": "scatter3d",
         "uid": "0af73dcc-5de3-4d79-957d-dc2c6b2dc2ff",
         "x": [
          -0.112182110618332,
          -0.030024759891513028
         ],
         "y": [
          0.7711129128660071,
          0.49346823955422336
         ],
         "z": [
          0.0586381940635674,
          0.32638550029579994
         ]
        },
        {
         "line": {
          "color": "rgb(25,130,196)",
          "width": 3
         },
         "mode": "lines",
         "name": "left_knee_to_ankle",
         "type": "scatter3d",
         "uid": "0d4f84bc-8d56-4140-8fb5-e06d615e7d74",
         "x": [
          -0.030024759891513028,
          -0.05615523207673964
         ],
         "y": [
          0.49346823955422336,
          0.04278055541630221
         ],
         "z": [
          0.32638550029579994,
          0.2443934916237018
         ]
        },
        {
         "line": {
          "color": "rgb(25,130,196)",
          "width": 3
         },
         "mode": "lines",
         "name": "left_ankle_to_end",
         "type": "scatter3d",
         "uid": "5860728c-85fc-4739-9d78-8dda24de8221",
         "x": [
          -0.05615523207673964,
          -0.0026827281728655644
         ],
         "y": [
          0.04278055541630221,
          0.008359392685773619
         ],
         "z": [
          0.2443934916237018,
          0.41655578608430194
         ]
        }
       ],
       "layout": {
        "height": 600,
        "scene": {
         "aspectmode": "data"
        },
        "template": {
         "data": {
          "bar": [
           {
            "error_x": {
             "color": "#2a3f5f"
            },
            "error_y": {
             "color": "#2a3f5f"
            },
            "marker": {
             "line": {
              "color": "#E5ECF6",
              "width": 0.5
             },
             "pattern": {
              "fillmode": "overlay",
              "size": 10,
              "solidity": 0.2
             }
            },
            "type": "bar"
           }
          ],
          "barpolar": [
           {
            "marker": {
             "line": {
              "color": "#E5ECF6",
              "width": 0.5
             },
             "pattern": {
              "fillmode": "overlay",
              "size": 10,
              "solidity": 0.2
             }
            },
            "type": "barpolar"
           }
          ],
          "carpet": [
           {
            "aaxis": {
             "endlinecolor": "#2a3f5f",
             "gridcolor": "white",
             "linecolor": "white",
             "minorgridcolor": "white",
             "startlinecolor": "#2a3f5f"
            },
            "baxis": {
             "endlinecolor": "#2a3f5f",
             "gridcolor": "white",
             "linecolor": "white",
             "minorgridcolor": "white",
             "startlinecolor": "#2a3f5f"
            },
            "type": "carpet"
           }
          ],
          "choropleth": [
           {
            "colorbar": {
             "outlinewidth": 0,
             "ticks": ""
            },
            "type": "choropleth"
           }
          ],
          "contour": [
           {
            "colorbar": {
             "outlinewidth": 0,
             "ticks": ""
            },
            "colorscale": [
             [
              0,
              "#0d0887"
             ],
             [
              0.1111111111111111,
              "#46039f"
             ],
             [
              0.2222222222222222,
              "#7201a8"
             ],
             [
              0.3333333333333333,
              "#9c179e"
             ],
             [
              0.4444444444444444,
              "#bd3786"
             ],
             [
              0.5555555555555556,
              "#d8576b"
             ],
             [
              0.6666666666666666,
              "#ed7953"
             ],
             [
              0.7777777777777778,
              "#fb9f3a"
             ],
             [
              0.8888888888888888,
              "#fdca26"
             ],
             [
              1,
              "#f0f921"
             ]
            ],
            "type": "contour"
           }
          ],
          "contourcarpet": [
           {
            "colorbar": {
             "outlinewidth": 0,
             "ticks": ""
            },
            "type": "contourcarpet"
           }
          ],
          "heatmap": [
           {
            "colorbar": {
             "outlinewidth": 0,
             "ticks": ""
            },
            "colorscale": [
             [
              0,
              "#0d0887"
             ],
             [
              0.1111111111111111,
              "#46039f"
             ],
             [
              0.2222222222222222,
              "#7201a8"
             ],
             [
              0.3333333333333333,
              "#9c179e"
             ],
             [
              0.4444444444444444,
              "#bd3786"
             ],
             [
              0.5555555555555556,
              "#d8576b"
             ],
             [
              0.6666666666666666,
              "#ed7953"
             ],
             [
              0.7777777777777778,
              "#fb9f3a"
             ],
             [
              0.8888888888888888,
              "#fdca26"
             ],
             [
              1,
              "#f0f921"
             ]
            ],
            "type": "heatmap"
           }
          ],
          "heatmapgl": [
           {
            "colorbar": {
             "outlinewidth": 0,
             "ticks": ""
            },
            "colorscale": [
             [
              0,
              "#0d0887"
             ],
             [
              0.1111111111111111,
              "#46039f"
             ],
             [
              0.2222222222222222,
              "#7201a8"
             ],
             [
              0.3333333333333333,
              "#9c179e"
             ],
             [
              0.4444444444444444,
              "#bd3786"
             ],
             [
              0.5555555555555556,
              "#d8576b"
             ],
             [
              0.6666666666666666,
              "#ed7953"
             ],
             [
              0.7777777777777778,
              "#fb9f3a"
             ],
             [
              0.8888888888888888,
              "#fdca26"
             ],
             [
              1,
              "#f0f921"
             ]
            ],
            "type": "heatmapgl"
           }
          ],
          "histogram": [
           {
            "marker": {
             "pattern": {
              "fillmode": "overlay",
              "size": 10,
              "solidity": 0.2
             }
            },
            "type": "histogram"
           }
          ],
          "histogram2d": [
           {
            "colorbar": {
             "outlinewidth": 0,
             "ticks": ""
            },
            "colorscale": [
             [
              0,
              "#0d0887"
             ],
             [
              0.1111111111111111,
              "#46039f"
             ],
             [
              0.2222222222222222,
              "#7201a8"
             ],
             [
              0.3333333333333333,
              "#9c179e"
             ],
             [
              0.4444444444444444,
              "#bd3786"
             ],
             [
              0.5555555555555556,
              "#d8576b"
             ],
             [
              0.6666666666666666,
              "#ed7953"
             ],
             [
              0.7777777777777778,
              "#fb9f3a"
             ],
             [
              0.8888888888888888,
              "#fdca26"
             ],
             [
              1,
              "#f0f921"
             ]
            ],
            "type": "histogram2d"
           }
          ],
          "histogram2dcontour": [
           {
            "colorbar": {
             "outlinewidth": 0,
             "ticks": ""
            },
            "colorscale": [
             [
              0,
              "#0d0887"
             ],
             [
              0.1111111111111111,
              "#46039f"
             ],
             [
              0.2222222222222222,
              "#7201a8"
             ],
             [
              0.3333333333333333,
              "#9c179e"
             ],
             [
              0.4444444444444444,
              "#bd3786"
             ],
             [
              0.5555555555555556,
              "#d8576b"
             ],
             [
              0.6666666666666666,
              "#ed7953"
             ],
             [
              0.7777777777777778,
              "#fb9f3a"
             ],
             [
              0.8888888888888888,
              "#fdca26"
             ],
             [
              1,
              "#f0f921"
             ]
            ],
            "type": "histogram2dcontour"
           }
          ],
          "mesh3d": [
           {
            "colorbar": {
             "outlinewidth": 0,
             "ticks": ""
            },
            "type": "mesh3d"
           }
          ],
          "parcoords": [
           {
            "line": {
             "colorbar": {
              "outlinewidth": 0,
              "ticks": ""
             }
            },
            "type": "parcoords"
           }
          ],
          "pie": [
           {
            "automargin": true,
            "type": "pie"
           }
          ],
          "scatter": [
           {
            "fillpattern": {
             "fillmode": "overlay",
             "size": 10,
             "solidity": 0.2
            },
            "type": "scatter"
           }
          ],
          "scatter3d": [
           {
            "line": {
             "colorbar": {
              "outlinewidth": 0,
              "ticks": ""
             }
            },
            "marker": {
             "colorbar": {
              "outlinewidth": 0,
              "ticks": ""
             }
            },
            "type": "scatter3d"
           }
          ],
          "scattercarpet": [
           {
            "marker": {
             "colorbar": {
              "outlinewidth": 0,
              "ticks": ""
             }
            },
            "type": "scattercarpet"
           }
          ],
          "scattergeo": [
           {
            "marker": {
             "colorbar": {
              "outlinewidth": 0,
              "ticks": ""
             }
            },
            "type": "scattergeo"
           }
          ],
          "scattergl": [
           {
            "marker": {
             "colorbar": {
              "outlinewidth": 0,
              "ticks": ""
             }
            },
            "type": "scattergl"
           }
          ],
          "scattermapbox": [
           {
            "marker": {
             "colorbar": {
              "outlinewidth": 0,
              "ticks": ""
             }
            },
            "type": "scattermapbox"
           }
          ],
          "scatterpolar": [
           {
            "marker": {
             "colorbar": {
              "outlinewidth": 0,
              "ticks": ""
             }
            },
            "type": "scatterpolar"
           }
          ],
          "scatterpolargl": [
           {
            "marker": {
             "colorbar": {
              "outlinewidth": 0,
              "ticks": ""
             }
            },
            "type": "scatterpolargl"
           }
          ],
          "scatterternary": [
           {
            "marker": {
             "colorbar": {
              "outlinewidth": 0,
              "ticks": ""
             }
            },
            "type": "scatterternary"
           }
          ],
          "surface": [
           {
            "colorbar": {
             "outlinewidth": 0,
             "ticks": ""
            },
            "colorscale": [
             [
              0,
              "#0d0887"
             ],
             [
              0.1111111111111111,
              "#46039f"
             ],
             [
              0.2222222222222222,
              "#7201a8"
             ],
             [
              0.3333333333333333,
              "#9c179e"
             ],
             [
              0.4444444444444444,
              "#bd3786"
             ],
             [
              0.5555555555555556,
              "#d8576b"
             ],
             [
              0.6666666666666666,
              "#ed7953"
             ],
             [
              0.7777777777777778,
              "#fb9f3a"
             ],
             [
              0.8888888888888888,
              "#fdca26"
             ],
             [
              1,
              "#f0f921"
             ]
            ],
            "type": "surface"
           }
          ],
          "table": [
           {
            "cells": {
             "fill": {
              "color": "#EBF0F8"
             },
             "line": {
              "color": "white"
             }
            },
            "header": {
             "fill": {
              "color": "#C8D4E3"
             },
             "line": {
              "color": "white"
             }
            },
            "type": "table"
           }
          ]
         },
         "layout": {
          "annotationdefaults": {
           "arrowcolor": "#2a3f5f",
           "arrowhead": 0,
           "arrowwidth": 1
          },
          "autotypenumbers": "strict",
          "coloraxis": {
           "colorbar": {
            "outlinewidth": 0,
            "ticks": ""
           }
          },
          "colorscale": {
           "diverging": [
            [
             0,
             "#8e0152"
            ],
            [
             0.1,
             "#c51b7d"
            ],
            [
             0.2,
             "#de77ae"
            ],
            [
             0.3,
             "#f1b6da"
            ],
            [
             0.4,
             "#fde0ef"
            ],
            [
             0.5,
             "#f7f7f7"
            ],
            [
             0.6,
             "#e6f5d0"
            ],
            [
             0.7,
             "#b8e186"
            ],
            [
             0.8,
             "#7fbc41"
            ],
            [
             0.9,
             "#4d9221"
            ],
            [
             1,
             "#276419"
            ]
           ],
           "sequential": [
            [
             0,
             "#0d0887"
            ],
            [
             0.1111111111111111,
             "#46039f"
            ],
            [
             0.2222222222222222,
             "#7201a8"
            ],
            [
             0.3333333333333333,
             "#9c179e"
            ],
            [
             0.4444444444444444,
             "#bd3786"
            ],
            [
             0.5555555555555556,
             "#d8576b"
            ],
            [
             0.6666666666666666,
             "#ed7953"
            ],
            [
             0.7777777777777778,
             "#fb9f3a"
            ],
            [
             0.8888888888888888,
             "#fdca26"
            ],
            [
             1,
             "#f0f921"
            ]
           ],
           "sequentialminus": [
            [
             0,
             "#0d0887"
            ],
            [
             0.1111111111111111,
             "#46039f"
            ],
            [
             0.2222222222222222,
             "#7201a8"
            ],
            [
             0.3333333333333333,
             "#9c179e"
            ],
            [
             0.4444444444444444,
             "#bd3786"
            ],
            [
             0.5555555555555556,
             "#d8576b"
            ],
            [
             0.6666666666666666,
             "#ed7953"
            ],
            [
             0.7777777777777778,
             "#fb9f3a"
            ],
            [
             0.8888888888888888,
             "#fdca26"
            ],
            [
             1,
             "#f0f921"
            ]
           ]
          },
          "colorway": [
           "#636efa",
           "#EF553B",
           "#00cc96",
           "#ab63fa",
           "#FFA15A",
           "#19d3f3",
           "#FF6692",
           "#B6E880",
           "#FF97FF",
           "#FECB52"
          ],
          "font": {
           "color": "#2a3f5f"
          },
          "geo": {
           "bgcolor": "white",
           "lakecolor": "white",
           "landcolor": "#E5ECF6",
           "showlakes": true,
           "showland": true,
           "subunitcolor": "white"
          },
          "hoverlabel": {
           "align": "left"
          },
          "hovermode": "closest",
          "mapbox": {
           "style": "light"
          },
          "paper_bgcolor": "white",
          "plot_bgcolor": "#E5ECF6",
          "polar": {
           "angularaxis": {
            "gridcolor": "white",
            "linecolor": "white",
            "ticks": ""
           },
           "bgcolor": "#E5ECF6",
           "radialaxis": {
            "gridcolor": "white",
            "linecolor": "white",
            "ticks": ""
           }
          },
          "scene": {
           "xaxis": {
            "backgroundcolor": "#E5ECF6",
            "gridcolor": "white",
            "gridwidth": 2,
            "linecolor": "white",
            "showbackground": true,
            "ticks": "",
            "zerolinecolor": "white"
           },
           "yaxis": {
            "backgroundcolor": "#E5ECF6",
            "gridcolor": "white",
            "gridwidth": 2,
            "linecolor": "white",
            "showbackground": true,
            "ticks": "",
            "zerolinecolor": "white"
           },
           "zaxis": {
            "backgroundcolor": "#E5ECF6",
            "gridcolor": "white",
            "gridwidth": 2,
            "linecolor": "white",
            "showbackground": true,
            "ticks": "",
            "zerolinecolor": "white"
           }
          },
          "shapedefaults": {
           "line": {
            "color": "#2a3f5f"
           }
          },
          "ternary": {
           "aaxis": {
            "gridcolor": "white",
            "linecolor": "white",
            "ticks": ""
           },
           "baxis": {
            "gridcolor": "white",
            "linecolor": "white",
            "ticks": ""
           },
           "bgcolor": "#E5ECF6",
           "caxis": {
            "gridcolor": "white",
            "linecolor": "white",
            "ticks": ""
           }
          },
          "title": {
           "x": 0.05
          },
          "xaxis": {
           "automargin": true,
           "gridcolor": "white",
           "linecolor": "white",
           "ticks": "",
           "title": {
            "standoff": 15
           },
           "zerolinecolor": "white",
           "zerolinewidth": 2
          },
          "yaxis": {
           "automargin": true,
           "gridcolor": "white",
           "linecolor": "white",
           "ticks": "",
           "title": {
            "standoff": 15
           },
           "zerolinecolor": "white",
           "zerolinewidth": 2
          }
         }
        }
       }
      }
     },
     "metadata": {},
     "output_type": "display_data"
    },
    {
     "data": {
      "text/plain": [
       "None"
      ]
     },
     "metadata": {},
     "output_type": "display_data"
    }
   ],
   "source": [
    "from IPython.display import display, DisplayHandle\n",
    "\n",
    "hdl:Optional[DisplayHandle] = None\n",
    "is_first = True\n",
    "fw = go.FigureWidget()\n",
    "def plot_frame(sk: Skeleton, index: int):\n",
    "    global fw\n",
    "    global is_first\n",
    "    frames = sk.total_frames\n",
    "    assert 0 <= index < frames, f\"index must be between 0 and {frames - 1} inclusive but got {index}; frames={frames}\"\n",
    "    fig = go.Figure()\n",
    "\n",
    "\n",
    "    scatters = [j.create_scatter(index) for j in sk.joints]\n",
    "    lines = [b.create_lines(index) for b in sk.bones]\n",
    "\n",
    "    \n",
    "    fig.add_traces(scatters + lines)\n",
    "    # if there's a JavaScript error\n",
    "    # restart Visual Studio Code (or use `.show()` method?)\n",
    "    if is_first:\n",
    "        is_first = False\n",
    "    else:\n",
    "        assert hdl is not None, \"hdl must be initialized\"\n",
    "        fw = go.FigureWidget(fig)\n",
    "        # https://stackoverflow.com/questions/52863305/plotly-scatter3d-how-can-i-force-3d-axes-to-have-the-same-scale-aspect-ratio\n",
    "        fw.update_layout(height=600, scene=dict(aspectmode=\"data\"))\n",
    "        fw.show()\n",
    "        hdl.update(None)\n",
    "\n",
    "slider = widgets.IntSlider(min=0,\n",
    "                           max=sk.total_frames - 1,\n",
    "                           step=1,\n",
    "                           value=0,\n",
    "                           continue_update=False)\n",
    "\n",
    "p = interactive(plot_frame, sk=fixed(sk_f), index=slider)\n",
    "display(p, clear=True)\n",
    "hdl = display(fw, display_id=True)"
   ]
  },
  {
   "cell_type": "code",
   "execution_count": null,
   "metadata": {},
   "outputs": [],
   "source": []
  }
 ],
 "metadata": {
  "kernelspec": {
   "display_name": "mmpose",
   "language": "python",
   "name": "python3"
  },
  "language_info": {
   "codemirror_mode": {
    "name": "ipython",
    "version": 3
   },
   "file_extension": ".py",
   "mimetype": "text/x-python",
   "name": "python",
   "nbconvert_exporter": "python",
   "pygments_lexer": "ipython3",
   "version": "3.11.5"
  }
 },
 "nbformat": 4,
 "nbformat_minor": 2
}
