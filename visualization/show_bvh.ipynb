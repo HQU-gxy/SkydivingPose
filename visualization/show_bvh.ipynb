{
 "cells": [
  {
   "cell_type": "code",
   "execution_count": 16,
   "metadata": {},
   "outputs": [],
   "source": [
    "import os\n",
    "import sys\n",
    "from IPython.display import HTML\n",
    "sys.path.append(\"../\")\n",
    "from app.npybvh.bvh import Bvh\n",
    "import plotly.express as px\n",
    "import plotly.graph_objects as go\n",
    "from typeguard import typechecked\n",
    "from jaxtyping import Int, Float, Bool, Num, jaxtyped\n",
    "from pydantic import BaseModel\n",
    "from typing import Optional, Union\n",
    "from plotly.graph_objects import layout\n",
    "from ipywidgets import interact, interactive, fixed, interact_manual, interactive_output\n",
    "import ipywidgets as widgets\n",
    "from IPython.display import clear_output\n",
    "from dataclasses import dataclass\n",
    "import numpy as np"
   ]
  },
  {
   "cell_type": "code",
   "execution_count": 17,
   "metadata": {},
   "outputs": [
    {
     "name": "stdout",
     "output_type": "stream",
     "text": [
      "Hip\n",
      "RightHip\n",
      "RightKnee\n",
      "RightAnkle\n",
      "RightAnkle_end\n",
      "LeftHip\n",
      "LeftKnee\n",
      "LeftAnkle\n",
      "LeftAnkle_end\n",
      "Spine\n",
      "Thorax\n",
      "Neck\n",
      "Neck_end\n",
      "LeftShoulder\n",
      "LeftElbow\n",
      "LeftWrist\n",
      "LeftWrist_end\n",
      "RightShoulder\n",
      "RightElbow\n",
      "RightWrist\n",
      "RightWrist_end\n"
     ]
    }
   ],
   "source": [
    "anim = Bvh()\n",
    "anim.parse_file(\"/home/zlt/Documents/SkydivingPose/output/bvh/h36m_cxk.bvh\")\n",
    "joint = anim.joints\n",
    "for k, v in joint.items():\n",
    "    print(k)"
   ]
  },
  {
   "cell_type": "code",
   "execution_count": 18,
   "metadata": {},
   "outputs": [],
   "source": [
    "NDArray = np.ndarray\n",
    "number = Union[int, float]\n",
    "Color = tuple[int, int, int] | str\n",
    "Step = layout.slider.Step\n",
    "Slider = layout.Slider\n",
    "\n",
    "class Joint(BaseModel):\n",
    "    index: int\n",
    "    opposite_index: Optional[int] = None\n",
    "    name: str\n",
    "    color: Color\n",
    "\n",
    "# https://plotly.com/python-api-reference/generated/plotly.graph_objects.scatter3d.marker.html\n",
    "# plotly.graph_objects.scatter3d.Marker\n",
    "def to_rgb_str(color: tuple[int, int, int]) -> str:\n",
    "    return f\"rgb({color[0]},{color[1]},{color[2]})\"\n",
    "\n",
    "class Bone(BaseModel):\n",
    "    joint1: Joint\n",
    "    joint2: Joint\n",
    "    name: str\n",
    "    color: Color\n",
    "\n",
    "    @staticmethod\n",
    "    def from_indexes(joints: list[Joint], idx_1: int, idx_2: int, name: str,\n",
    "                     color: Color) -> \"Bone\":\n",
    "        return Bone(joint1=joints[idx_1],\n",
    "                    joint2=joints[idx_2],\n",
    "                    name=name,\n",
    "                    color=color)\n",
    "\n",
    "COLOR_SPINE = to_rgb_str((138, 201, 38))  # green, spine & head\n",
    "COLOR_ARMS = to_rgb_str((255, 202, 58))  # yellow, arms & shoulders\n",
    "COLOR_LEGS = to_rgb_str((25, 130, 196))  # blue, legs & hips\n",
    "COLOR_FINGERS = to_rgb_str((255, 0, 0))  # red, fingers\n",
    "COLOR_HANDS = COLOR_FINGERS\n",
    "CIRCLE_SIZE = 2\n",
    "LINE_WIDTH = 3"
   ]
  },
  {
   "cell_type": "code",
   "execution_count": 19,
   "metadata": {},
   "outputs": [],
   "source": [
    "joints_map_list = [  \n",
    "    Joint(index=0, name=\"Hip\", color=COLOR_SPINE),  \n",
    "    Joint(index=1, name=\"RightHip\", color=COLOR_LEGS),  \n",
    "    Joint(index=2, name=\"RightKnee\", color=COLOR_LEGS),  \n",
    "    Joint(index=3, name=\"RightAnkle\", color=COLOR_LEGS),  \n",
    "    Joint(index=4, name=\"RightAnkle_end\", color=COLOR_LEGS),  \n",
    "    Joint(index=5, name=\"LeftHip\", color=COLOR_LEGS),  \n",
    "    Joint(index=6, name=\"LeftKnee\", color=COLOR_LEGS),  \n",
    "    Joint(index=7, name=\"LeftAnkle\", color=COLOR_LEGS),  \n",
    "    Joint(index=8, name=\"LeftAnkle_end\", color=COLOR_LEGS),  \n",
    "    Joint(index=9, name=\"Spine\", color=COLOR_SPINE),  \n",
    "    Joint(index=10, name=\"Thorax\", color=COLOR_SPINE),  \n",
    "    Joint(index=11, name=\"Neck\", color=COLOR_SPINE),  \n",
    "    Joint(index=12, name=\"Neck_end\", color=COLOR_SPINE),  \n",
    "    Joint(index=13, name=\"LeftShoulder\", color=COLOR_ARMS),  \n",
    "    Joint(index=14, name=\"LeftElbow\", color=COLOR_ARMS),  \n",
    "    Joint(index=15, name=\"LeftWrist\", color=COLOR_ARMS),  \n",
    "    Joint(index=16, name=\"LeftWrist_end\", color=COLOR_ARMS),  \n",
    "    Joint(index=17, name=\"RightShoulder\", color=COLOR_ARMS),  \n",
    "    Joint(index=18, name=\"RightElbow\", color=COLOR_ARMS),  \n",
    "    Joint(index=19, name=\"RightWrist\", color=COLOR_ARMS),  \n",
    "    Joint(index=20, name=\"RightWrist_end\", color=COLOR_ARMS),  \n",
    "]"
   ]
  },
  {
   "cell_type": "code",
   "execution_count": 20,
   "metadata": {},
   "outputs": [],
   "source": [
    "from typing import Callable\n",
    "\n",
    "\n",
    "@dataclass\n",
    "class PayloadJoint:\n",
    "    joint: Joint\n",
    "    payload: Num[NDArray, \"F 1 3\"]\n",
    "\n",
    "    @staticmethod\n",
    "    def from_stacked(joint: Joint, payload: Num[NDArray,\n",
    "                                                \"F J 3\"]) -> \"PayloadJoint\":\n",
    "        assert payload.shape[2] == 3, \"must be 3D coordinates\"\n",
    "        assert len(payload.shape) == 3, \"must be (frames, joints, coordinates)\"\n",
    "        idx = joint.index\n",
    "        p = payload[:, idx].reshape(-1, 1, 3)\n",
    "        return PayloadJoint(joint=joint, payload=p)\n",
    "\n",
    "    def create_scatter(self, frame: int) -> go.Scatter3d:\n",
    "        total = self.payload.shape[0]\n",
    "        assert frame < total, f\"frame {frame} out of range {total}\"\n",
    "        return go.Scatter3d(x=[self.payload[frame, 0, 0]],\n",
    "                            y=[self.payload[frame, 0, 1]],\n",
    "                            z=[self.payload[frame, 0, 2]],\n",
    "                            mode=\"markers\",\n",
    "                            marker=dict(size=CIRCLE_SIZE,\n",
    "                                        color=self.joint.color),\n",
    "                            name=self.joint.name)\n",
    "\n",
    "\n",
    "@dataclass\n",
    "class PayloadBone:\n",
    "    bone: Bone\n",
    "    payload: Num[NDArray, \"F 1 2 3\"]\n",
    "\n",
    "    @staticmethod\n",
    "    def from_stacked(bone: Bone, payload: Num[NDArray,\n",
    "                                              \"F J 3\"]) -> \"PayloadBone\":\n",
    "        assert payload.shape[2] == 3, \"must be 3D coordinates\"\n",
    "        assert len(payload.shape) == 3, \"must be (frames, joints, coordinates)\"\n",
    "        idx1 = bone.joint1.index\n",
    "        idx2 = bone.joint2.index\n",
    "        payload_1 = payload[:, idx1].reshape(-1, 1, 1, 3)\n",
    "        payload_2 = payload[:, idx2].reshape(-1, 1, 1, 3)\n",
    "        return PayloadBone(bone=bone,\n",
    "                           payload=np.concatenate([payload_1, payload_2],\n",
    "                                                  axis=2))\n",
    "\n",
    "    def create_lines(self, frame: int) -> go.Scatter3d:\n",
    "        total = self.payload.shape[0]\n",
    "        assert frame < total, f\"frame {frame} out of range {total}\"\n",
    "        return go.Scatter3d(x=self.payload[frame, 0, :, 0].T,\n",
    "                            y=self.payload[frame, 0, :, 1].T,\n",
    "                            z=self.payload[frame, 0, :, 2].T,\n",
    "                            mode=\"lines\",\n",
    "                            line=dict(width=LINE_WIDTH, color=self.bone.color),\n",
    "                            name=self.bone.name)\n",
    "\n",
    "\n",
    "@dataclass\n",
    "class Skeleton:\n",
    "    bone_schema: list[Bone]\n",
    "    joint_schema: list[Joint]\n",
    "    joints: list[PayloadJoint]\n",
    "    bones: list[PayloadBone]\n",
    "\n",
    "    @staticmethod\n",
    "    def from_stacked(joints: list[Joint], bones: list[Bone],\n",
    "                     payload: Num[NDArray, \"F J 3\"]) -> \"Skeleton\":\n",
    "        return Skeleton(\n",
    "            bone_schema=bones,\n",
    "            joint_schema=joints,\n",
    "            joints=[\n",
    "                PayloadJoint.from_stacked(joint, payload) for joint in joints\n",
    "            ],\n",
    "            bones=[PayloadBone.from_stacked(bone, payload) for bone in bones])\n",
    "\n",
    "    @jaxtyped(typechecker=typechecked)\n",
    "    def to_stacked_joints(self) -> Num[NDArray, \"F J 3\"]:\n",
    "        return np.stack([joint.payload for joint in self.joints], axis=1)\n",
    "\n",
    "    @jaxtyped(typechecker=typechecked)\n",
    "    def to_stacked_bones(self) -> Num[NDArray, \"F J 2 3\"]:\n",
    "        return np.stack([bone.payload for bone in self.bones], axis=1)\n",
    "\n",
    "    @property\n",
    "    def total_frames(self) -> int:\n",
    "        return self.joints[0].payload.shape[0]\n",
    "    \n",
    "    def get_joint_by_name(self, name: str) -> PayloadJoint:  \n",
    "        for joint in self.joints:  \n",
    "            if joint.joint.name == name:  \n",
    "                return joint  \n",
    "        raise ValueError(f\"Joint with name {name} not found\")  \n",
    "    \n",
    "    def filter(self, predicate: Callable[[str], bool]) -> \"Skeleton\":\n",
    "        \"\"\"\n",
    "        filter joints and bones by name\n",
    "        \"\"\"\n",
    "        joints = [joint for joint in self.joints if predicate(joint.joint.name)]\n",
    "        bones = [bone for bone in self.bones if predicate(bone.bone.name)]\n",
    "        bs = [bone for bone in self.bone_schema if predicate(bone.name)]\n",
    "        js = [joint for joint in self.joint_schema if predicate(joint.name)]\n",
    "        return Skeleton(joints=joints,\n",
    "                        bones=bones,\n",
    "                        joint_schema=js,\n",
    "                        bone_schema=bs)\n"
   ]
  },
  {
   "cell_type": "code",
   "execution_count": 21,
   "metadata": {},
   "outputs": [
    {
     "data": {
      "text/plain": [
       "(30, 21, 3)"
      ]
     },
     "metadata": {},
     "output_type": "display_data"
    }
   ],
   "source": [
    "pos, rot = anim.all_frame_poses()\n",
    "display(pos.shape)"
   ]
  },
  {
   "cell_type": "code",
   "execution_count": 22,
   "metadata": {},
   "outputs": [],
   "source": [
    "@jaxtyped(typechecker=typechecked)\n",
    "def preprocess_data(pos: Num[NDArray, \"F J 3\"]) -> Num[NDArray, \"F J 3\"]:\n",
    "    pre = pos.copy()\n",
    "    pre = np.concatenate([pre[:, :, 0:1], pre[:, :, 2:3], pre[:, :, 1:2]], axis=2)\n",
    "    return pre"
   ]
  },
  {
   "cell_type": "code",
   "execution_count": 23,
   "metadata": {},
   "outputs": [],
   "source": [
    "joints_map_list = [  \n",
    "    Joint(index=0, name=\"Hip\", color=COLOR_SPINE),  \n",
    "    Joint(index=1, name=\"RightHip\", color=COLOR_LEGS),  \n",
    "    Joint(index=2, name=\"RightKnee\", color=COLOR_LEGS),  \n",
    "    Joint(index=3, name=\"RightAnkle\", color=COLOR_LEGS),  \n",
    "    Joint(index=4, name=\"RightAnkle_end\", color=COLOR_LEGS),  \n",
    "    Joint(index=5, name=\"LeftHip\", color=COLOR_LEGS),  \n",
    "    Joint(index=6, name=\"LeftKnee\", color=COLOR_LEGS),  \n",
    "    Joint(index=7, name=\"LeftAnkle\", color=COLOR_LEGS),  \n",
    "    Joint(index=8, name=\"LeftAnkle_end\", color=COLOR_LEGS),  \n",
    "    Joint(index=9, name=\"Spine\", color=COLOR_SPINE),  \n",
    "    Joint(index=10, name=\"Thorax\", color=COLOR_SPINE),  \n",
    "    Joint(index=11, name=\"Neck\", color=COLOR_SPINE),  \n",
    "    Joint(index=12, name=\"Neck_end\", color=COLOR_SPINE),  \n",
    "    Joint(index=13, name=\"LeftShoulder\", color=COLOR_ARMS),  \n",
    "    Joint(index=14, name=\"LeftElbow\", color=COLOR_ARMS),  \n",
    "    Joint(index=15, name=\"LeftWrist\", color=COLOR_ARMS),  \n",
    "    Joint(index=16, name=\"LeftWrist_end\", color=COLOR_ARMS),  \n",
    "    Joint(index=17, name=\"RightShoulder\", color=COLOR_ARMS),  \n",
    "    Joint(index=18, name=\"RightElbow\", color=COLOR_ARMS),  \n",
    "    Joint(index=19, name=\"RightWrist\", color=COLOR_ARMS),  \n",
    "    Joint(index=20, name=\"RightWrist_end\", color=COLOR_ARMS),  \n",
    "]"
   ]
  },
  {
   "cell_type": "code",
   "execution_count": 24,
   "metadata": {},
   "outputs": [],
   "source": [
    "bone_map_lists = [  \n",
    "    # Spine  \n",
    "    Bone.from_indexes(joints_map_list, 0, 9, \"hip_to_spine\", COLOR_SPINE),  \n",
    "    Bone.from_indexes(joints_map_list, 9, 10, \"spine_to_thorax\", COLOR_SPINE),  \n",
    "    Bone.from_indexes(joints_map_list, 10, 11, \"thorax_to_neck\", COLOR_SPINE),  \n",
    "    Bone.from_indexes(joints_map_list, 11, 12, \"neck_to_neck_end\", COLOR_SPINE),  \n",
    "\n",
    "    # Right Arm  \n",
    "    Bone.from_indexes(joints_map_list, 10, 17, \"thorax_to_right_shoulder\", COLOR_ARMS),  \n",
    "    Bone.from_indexes(joints_map_list, 17, 18, \"right_shoulder_to_elbow\", COLOR_ARMS),  \n",
    "    Bone.from_indexes(joints_map_list, 18, 19, \"right_elbow_to_wrist\", COLOR_ARMS),  \n",
    "    Bone.from_indexes(joints_map_list, 19, 20, \"right_wrist_to_end\", COLOR_ARMS),  \n",
    "\n",
    "    # Left Arm  \n",
    "    Bone.from_indexes(joints_map_list, 10, 13, \"thorax_to_left_shoulder\", COLOR_ARMS),  \n",
    "    Bone.from_indexes(joints_map_list, 13, 14, \"left_shoulder_to_elbow\", COLOR_ARMS),  \n",
    "    Bone.from_indexes(joints_map_list, 14, 15, \"left_elbow_to_wrist\", COLOR_ARMS),  \n",
    "    Bone.from_indexes(joints_map_list, 15, 16, \"left_wrist_to_end\", COLOR_ARMS),  \n",
    "\n",
    "    # Right Leg  \n",
    "    Bone.from_indexes(joints_map_list, 0, 1, \"hip_to_right_hip\", COLOR_LEGS),  \n",
    "    Bone.from_indexes(joints_map_list, 1, 2, \"right_hip_to_knee\", COLOR_LEGS),  \n",
    "    Bone.from_indexes(joints_map_list, 2, 3, \"right_knee_to_ankle\", COLOR_LEGS),  \n",
    "    Bone.from_indexes(joints_map_list, 3, 4, \"right_ankle_to_end\", COLOR_LEGS),  \n",
    "\n",
    "    # Left Leg  \n",
    "    Bone.from_indexes(joints_map_list, 0, 5, \"hip_to_left_hip\", COLOR_LEGS),  \n",
    "    Bone.from_indexes(joints_map_list, 5, 6, \"left_hip_to_knee\", COLOR_LEGS),  \n",
    "    Bone.from_indexes(joints_map_list, 6, 7, \"left_knee_to_ankle\", COLOR_LEGS),  \n",
    "    Bone.from_indexes(joints_map_list, 7, 8, \"left_ankle_to_end\", COLOR_LEGS),  \n",
    "]"
   ]
  },
  {
   "cell_type": "code",
   "execution_count": 25,
   "metadata": {},
   "outputs": [],
   "source": [
    "pre = preprocess_data(pos)\n",
    "sk = Skeleton.from_stacked(joints_map_list, bone_map_lists, pre)\n",
    "\n",
    "def filter_by_name(name: str) -> bool:\n",
    "    if \"finger\" in name.lower():\n",
    "        return False\n",
    "    if \"index\" in name.lower():\n",
    "        return False\n",
    "    if \"middle\" in name.lower():\n",
    "        return False\n",
    "    if \"ring\" in name.lower():\n",
    "        return False\n",
    "    if \"thumb\" in name.lower():\n",
    "        return False\n",
    "    if \"pinky\" in name.lower():\n",
    "        return False\n",
    "    if \"tip\" in name.lower():\n",
    "        return False\n",
    "    return True\n",
    "\n",
    "sk_f = sk.filter(filter_by_name)"
   ]
  },
  {
   "cell_type": "code",
   "execution_count": 26,
   "metadata": {},
   "outputs": [
    {
     "data": {
      "application/vnd.jupyter.widget-view+json": {
       "model_id": "2cd5812db27e4919b9da98e2fe30daef",
       "version_major": 2,
       "version_minor": 0
      },
      "text/plain": [
       "interactive(children=(IntSlider(value=0, description='index', max=29), Output()), _dom_classes=('widget-intera…"
      ]
     },
     "metadata": {},
     "output_type": "display_data"
    },
    {
     "data": {
      "application/vnd.plotly.v1+json": {
       "config": {
        "plotlyServerURL": "https://plot.ly"
       },
       "data": [
        {
         "marker": {
          "color": "rgb(138,201,38)",
          "size": 2
         },
         "mode": "markers",
         "name": "Hip",
         "type": "scatter3d",
         "uid": "ba65c9b8-c044-4d08-bdb9-0bc8024bd3d8",
         "x": [
          0
         ],
         "y": [
          0.7627056241035461
         ],
         "z": [
          0
         ]
        },
        {
         "marker": {
          "color": "rgb(25,130,196)",
          "size": 2
         },
         "mode": "markers",
         "name": "RightHip",
         "type": "scatter3d",
         "uid": "327d369f-2846-42d7-8fba-f568cbbb0904",
         "x": [
          0.11227957059849257
         ],
         "y": [
          0.7544876181808282
         ],
         "z": [
          -0.05847827506884896
         ]
        },
        {
         "marker": {
          "color": "rgb(25,130,196)",
          "size": 2
         },
         "mode": "markers",
         "name": "RightKnee",
         "type": "scatter3d",
         "uid": "a100bf70-8201-4215-b52a-564e59b69140",
         "x": [
          0.22745906153434758
         ],
         "y": [
          0.4296560418749439
         ],
         "z": [
          0.13320674467412744
         ]
        },
        {
         "marker": {
          "color": "rgb(25,130,196)",
          "size": 2
         },
         "mode": "markers",
         "name": "RightAnkle",
         "type": "scatter3d",
         "uid": "123acbd2-e70b-4de5-9f1a-b1fcaef6374e",
         "x": [
          0.2202912068952879
         ],
         "y": [
          -0.016111772773268584
         ],
         "z": [
          0.02474220217317384
         ]
        },
        {
         "marker": {
          "color": "rgb(25,130,196)",
          "size": 2
         },
         "mode": "markers",
         "name": "RightAnkle_end",
         "type": "scatter3d",
         "uid": "57180986-c929-4501-92a5-979425f1cb14",
         "x": [
          0.30868513797002595
         ],
         "y": [
          -0.055479224279233026
         ],
         "z": [
          0.18069314786600932
         ]
        },
        {
         "marker": {
          "color": "rgb(25,130,196)",
          "size": 2
         },
         "mode": "markers",
         "name": "LeftHip",
         "type": "scatter3d",
         "uid": "8db9ec38-4c04-4085-b28b-0c4734c71eb4",
         "x": [
          -0.11227957059849257
         ],
         "y": [
          0.7709236300262641
         ],
         "z": [
          0.05847827506884896
         ]
        },
        {
         "marker": {
          "color": "rgb(25,130,196)",
          "size": 2
         },
         "mode": "markers",
         "name": "LeftKnee",
         "type": "scatter3d",
         "uid": "ffc80211-51d1-4b32-9dad-653be3e58c8e",
         "x": [
          -0.027485744382125962
         ],
         "y": [
          0.4817990598372463
         ],
         "z": [
          0.31292277754449277
         ]
        },
        {
         "marker": {
          "color": "rgb(25,130,196)",
          "size": 2
         },
         "mode": "markers",
         "name": "LeftAnkle",
         "type": "scatter3d",
         "uid": "e7b594d9-c6c7-448d-b346-2a71fcf76d81",
         "x": [
          -0.06344052201747377
         ],
         "y": [
          0.0335548077860639
         ],
         "z": [
          0.22176783163051772
         ]
        },
        {
         "marker": {
          "color": "rgb(25,130,196)",
          "size": 2
         },
         "mode": "markers",
         "name": "LeftAnkle_end",
         "type": "scatter3d",
         "uid": "67098532-e607-4a44-a2af-6fa721295cfe",
         "x": [
          -0.010502005967879667
         ],
         "y": [
          -0.005532991781313883
         ],
         "z": [
          0.39309686651619347
         ]
        },
        {
         "marker": {
          "color": "rgb(138,201,38)",
          "size": 2
         },
         "mode": "markers",
         "name": "Spine",
         "type": "scatter3d",
         "uid": "f2a47518-d336-4dc5-b45d-2cd36aa3d85e",
         "x": [
          0.08177518264807916
         ],
         "y": [
          0.8591332385177185
         ],
         "z": [
          0.14345908248992278
         ]
        },
        {
         "marker": {
          "color": "rgb(138,201,38)",
          "size": 2
         },
         "mode": "markers",
         "name": "Thorax",
         "type": "scatter3d",
         "uid": "91af8a37-8212-4563-ae9a-111ba83379f8",
         "x": [
          0.2120577150342322
         ],
         "y": [
          0.868418792561794
         ],
         "z": [
          0.3619935485839988
         ]
        },
        {
         "marker": {
          "color": "rgb(138,201,38)",
          "size": 2
         },
         "mode": "markers",
         "name": "Neck",
         "type": "scatter3d",
         "uid": "fc7582b7-fd77-4e9b-b3d5-3429b43e63df",
         "x": [
          0.2709120342782758
         ],
         "y": [
          0.8726134835311715
         ],
         "z": [
          0.4607151269703149
         ]
        },
        {
         "marker": {
          "color": "rgb(138,201,38)",
          "size": 2
         },
         "mode": "markers",
         "name": "Neck_end",
         "type": "scatter3d",
         "uid": "13c792dd-206d-47f0-bc3d-e9983e85fab0",
         "x": [
          0.28598993235859216
         ],
         "y": [
          0.8476145467491687
         ],
         "z": [
          0.4962691755114312
         ]
        },
        {
         "marker": {
          "color": "rgb(255,202,58)",
          "size": 2
         },
         "mode": "markers",
         "name": "LeftShoulder",
         "type": "scatter3d",
         "uid": "4cecf4b0-0b5c-4b4d-bd3c-9d5e906c0a94",
         "x": [
          0.07713837146885694
         ],
         "y": [
          0.842206942634959
         ],
         "z": [
          0.4435414417616069
         ]
        },
        {
         "marker": {
          "color": "rgb(255,202,58)",
          "size": 2
         },
         "mode": "markers",
         "name": "LeftElbow",
         "type": "scatter3d",
         "uid": "df0e83e1-1756-4abe-ad4f-2cf3e6140056",
         "x": [
          -0.04623743596017972
         ],
         "y": [
          0.6180864748043211
         ],
         "z": [
          0.3129770515664536
         ]
        },
        {
         "marker": {
          "color": "rgb(255,202,58)",
          "size": 2
         },
         "mode": "markers",
         "name": "LeftWrist",
         "type": "scatter3d",
         "uid": "8eaeb5a2-79ad-4bfe-96ce-ee89e0c77957",
         "x": [
          0.12266343053173694
         ],
         "y": [
          0.6437287894208878
         ],
         "z": [
          0.2703001774497906
         ]
        },
        {
         "marker": {
          "color": "rgb(255,202,58)",
          "size": 2
         },
         "mode": "markers",
         "name": "LeftWrist_end",
         "type": "scatter3d",
         "uid": "f3e03b49-45a7-4f17-832b-19a382ffb4c4",
         "x": [
          0.1902237771285036
         ],
         "y": [
          0.6539857152675146
         ],
         "z": [
          0.25322942780312546
         ]
        },
        {
         "marker": {
          "color": "rgb(255,202,58)",
          "size": 2
         },
         "mode": "markers",
         "name": "RightShoulder",
         "type": "scatter3d",
         "uid": "416e9990-a0e5-49f7-8c80-b3e71fc9e8c7",
         "x": [
          0.3469770585996075
         ],
         "y": [
          0.894630642488629
         ],
         "z": [
          0.28044565540639066
         ]
        },
        {
         "marker": {
          "color": "rgb(255,202,58)",
          "size": 2
         },
         "mode": "markers",
         "name": "RightElbow",
         "type": "scatter3d",
         "uid": "8cb483dc-dda0-4d55-80f0-9d4862c8ac92",
         "x": [
          0.3959413901655678
         ],
         "y": [
          0.7541046610120853
         ],
         "z": [
          0.03477600585485216
         ]
        },
        {
         "marker": {
          "color": "rgb(255,202,58)",
          "size": 2
         },
         "mode": "markers",
         "name": "RightWrist",
         "type": "scatter3d",
         "uid": "c49ac85e-7057-4358-a58c-9e8be52e85e1",
         "x": [
          0.29808028401822384
         ],
         "y": [
          0.6574101521473121
         ],
         "z": [
          0.1446837964977512
         ]
        },
        {
         "marker": {
          "color": "rgb(255,202,58)",
          "size": 2
         },
         "mode": "markers",
         "name": "RightWrist_end",
         "type": "scatter3d",
         "uid": "bec90719-319f-41d6-bb00-e0335a2a2d16",
         "x": [
          0.2589358415592863
         ],
         "y": [
          0.6187323486014029
         ],
         "z": [
          0.18864691275491083
         ]
        },
        {
         "line": {
          "color": "rgb(138,201,38)",
          "width": 3
         },
         "mode": "lines",
         "name": "hip_to_spine",
         "type": "scatter3d",
         "uid": "ba93ac33-3561-4a50-866f-b44da6134201",
         "x": [
          0,
          0.08177518264807916
         ],
         "y": [
          0.7627056241035461,
          0.8591332385177185
         ],
         "z": [
          0,
          0.14345908248992278
         ]
        },
        {
         "line": {
          "color": "rgb(138,201,38)",
          "width": 3
         },
         "mode": "lines",
         "name": "spine_to_thorax",
         "type": "scatter3d",
         "uid": "8cda0b48-a32a-42aa-9cad-7670e8b74e4e",
         "x": [
          0.08177518264807916,
          0.2120577150342322
         ],
         "y": [
          0.8591332385177185,
          0.868418792561794
         ],
         "z": [
          0.14345908248992278,
          0.3619935485839988
         ]
        },
        {
         "line": {
          "color": "rgb(138,201,38)",
          "width": 3
         },
         "mode": "lines",
         "name": "thorax_to_neck",
         "type": "scatter3d",
         "uid": "dcea0ffd-b44b-4ecc-a149-60342261852d",
         "x": [
          0.2120577150342322,
          0.2709120342782758
         ],
         "y": [
          0.868418792561794,
          0.8726134835311715
         ],
         "z": [
          0.3619935485839988,
          0.4607151269703149
         ]
        },
        {
         "line": {
          "color": "rgb(138,201,38)",
          "width": 3
         },
         "mode": "lines",
         "name": "neck_to_neck_end",
         "type": "scatter3d",
         "uid": "b6081b4f-51ce-45de-8527-984917e86dbc",
         "x": [
          0.2709120342782758,
          0.28598993235859216
         ],
         "y": [
          0.8726134835311715,
          0.8476145467491687
         ],
         "z": [
          0.4607151269703149,
          0.4962691755114312
         ]
        },
        {
         "line": {
          "color": "rgb(255,202,58)",
          "width": 3
         },
         "mode": "lines",
         "name": "thorax_to_right_shoulder",
         "type": "scatter3d",
         "uid": "9ae3c7e7-e07c-4ce2-9c3e-1c2cdd217585",
         "x": [
          0.2120577150342322,
          0.3469770585996075
         ],
         "y": [
          0.868418792561794,
          0.894630642488629
         ],
         "z": [
          0.3619935485839988,
          0.28044565540639066
         ]
        },
        {
         "line": {
          "color": "rgb(255,202,58)",
          "width": 3
         },
         "mode": "lines",
         "name": "right_shoulder_to_elbow",
         "type": "scatter3d",
         "uid": "cb9c5d3a-314b-4c70-9612-da4af67c4ccd",
         "x": [
          0.3469770585996075,
          0.3959413901655678
         ],
         "y": [
          0.894630642488629,
          0.7541046610120853
         ],
         "z": [
          0.28044565540639066,
          0.03477600585485216
         ]
        },
        {
         "line": {
          "color": "rgb(255,202,58)",
          "width": 3
         },
         "mode": "lines",
         "name": "right_elbow_to_wrist",
         "type": "scatter3d",
         "uid": "5e245212-9aa2-47cc-8585-4b0c1bc952a3",
         "x": [
          0.3959413901655678,
          0.29808028401822384
         ],
         "y": [
          0.7541046610120853,
          0.6574101521473121
         ],
         "z": [
          0.03477600585485216,
          0.1446837964977512
         ]
        },
        {
         "line": {
          "color": "rgb(255,202,58)",
          "width": 3
         },
         "mode": "lines",
         "name": "right_wrist_to_end",
         "type": "scatter3d",
         "uid": "e000a124-ee16-4f4c-a40a-387e272f8409",
         "x": [
          0.29808028401822384,
          0.2589358415592863
         ],
         "y": [
          0.6574101521473121,
          0.6187323486014029
         ],
         "z": [
          0.1446837964977512,
          0.18864691275491083
         ]
        },
        {
         "line": {
          "color": "rgb(255,202,58)",
          "width": 3
         },
         "mode": "lines",
         "name": "thorax_to_left_shoulder",
         "type": "scatter3d",
         "uid": "0102c09f-9a07-4987-b1d0-c06e9e48ab32",
         "x": [
          0.2120577150342322,
          0.07713837146885694
         ],
         "y": [
          0.868418792561794,
          0.842206942634959
         ],
         "z": [
          0.3619935485839988,
          0.4435414417616069
         ]
        },
        {
         "line": {
          "color": "rgb(255,202,58)",
          "width": 3
         },
         "mode": "lines",
         "name": "left_shoulder_to_elbow",
         "type": "scatter3d",
         "uid": "ae266e25-3388-4aa9-9df4-0fe3ceca07e1",
         "x": [
          0.07713837146885694,
          -0.04623743596017972
         ],
         "y": [
          0.842206942634959,
          0.6180864748043211
         ],
         "z": [
          0.4435414417616069,
          0.3129770515664536
         ]
        },
        {
         "line": {
          "color": "rgb(255,202,58)",
          "width": 3
         },
         "mode": "lines",
         "name": "left_elbow_to_wrist",
         "type": "scatter3d",
         "uid": "d7ed9b56-3dcc-4451-8d2c-e7a8f98d27b5",
         "x": [
          -0.04623743596017972,
          0.12266343053173694
         ],
         "y": [
          0.6180864748043211,
          0.6437287894208878
         ],
         "z": [
          0.3129770515664536,
          0.2703001774497906
         ]
        },
        {
         "line": {
          "color": "rgb(255,202,58)",
          "width": 3
         },
         "mode": "lines",
         "name": "left_wrist_to_end",
         "type": "scatter3d",
         "uid": "46e089ea-7adb-4485-a5fa-7b97f29c3f9d",
         "x": [
          0.12266343053173694,
          0.1902237771285036
         ],
         "y": [
          0.6437287894208878,
          0.6539857152675146
         ],
         "z": [
          0.2703001774497906,
          0.25322942780312546
         ]
        },
        {
         "line": {
          "color": "rgb(25,130,196)",
          "width": 3
         },
         "mode": "lines",
         "name": "hip_to_right_hip",
         "type": "scatter3d",
         "uid": "010b5502-e3f7-4418-99d6-931a68ad798e",
         "x": [
          0,
          0.11227957059849257
         ],
         "y": [
          0.7627056241035461,
          0.7544876181808282
         ],
         "z": [
          0,
          -0.05847827506884896
         ]
        },
        {
         "line": {
          "color": "rgb(25,130,196)",
          "width": 3
         },
         "mode": "lines",
         "name": "right_hip_to_knee",
         "type": "scatter3d",
         "uid": "fbdad7ec-7672-45e6-823b-4e943e38cd7c",
         "x": [
          0.11227957059849257,
          0.22745906153434758
         ],
         "y": [
          0.7544876181808282,
          0.4296560418749439
         ],
         "z": [
          -0.05847827506884896,
          0.13320674467412744
         ]
        },
        {
         "line": {
          "color": "rgb(25,130,196)",
          "width": 3
         },
         "mode": "lines",
         "name": "right_knee_to_ankle",
         "type": "scatter3d",
         "uid": "fcc11c98-e8ea-482f-8cd7-8cb359c33010",
         "x": [
          0.22745906153434758,
          0.2202912068952879
         ],
         "y": [
          0.4296560418749439,
          -0.016111772773268584
         ],
         "z": [
          0.13320674467412744,
          0.02474220217317384
         ]
        },
        {
         "line": {
          "color": "rgb(25,130,196)",
          "width": 3
         },
         "mode": "lines",
         "name": "right_ankle_to_end",
         "type": "scatter3d",
         "uid": "1ddc8cbc-241e-44bd-b868-3b1d07df42dd",
         "x": [
          0.2202912068952879,
          0.30868513797002595
         ],
         "y": [
          -0.016111772773268584,
          -0.055479224279233026
         ],
         "z": [
          0.02474220217317384,
          0.18069314786600932
         ]
        },
        {
         "line": {
          "color": "rgb(25,130,196)",
          "width": 3
         },
         "mode": "lines",
         "name": "hip_to_left_hip",
         "type": "scatter3d",
         "uid": "2faadaca-059a-4c19-a3ed-f6b1e226b19e",
         "x": [
          0,
          -0.11227957059849257
         ],
         "y": [
          0.7627056241035461,
          0.7709236300262641
         ],
         "z": [
          0,
          0.05847827506884896
         ]
        },
        {
         "line": {
          "color": "rgb(25,130,196)",
          "width": 3
         },
         "mode": "lines",
         "name": "left_hip_to_knee",
         "type": "scatter3d",
         "uid": "07cae1e5-236e-4bcc-ad21-fe153dc8b2e9",
         "x": [
          -0.11227957059849257,
          -0.027485744382125962
         ],
         "y": [
          0.7709236300262641,
          0.4817990598372463
         ],
         "z": [
          0.05847827506884896,
          0.31292277754449277
         ]
        },
        {
         "line": {
          "color": "rgb(25,130,196)",
          "width": 3
         },
         "mode": "lines",
         "name": "left_knee_to_ankle",
         "type": "scatter3d",
         "uid": "8dea55ae-3bd7-4849-b6cb-abf01e8b5308",
         "x": [
          -0.027485744382125962,
          -0.06344052201747377
         ],
         "y": [
          0.4817990598372463,
          0.0335548077860639
         ],
         "z": [
          0.31292277754449277,
          0.22176783163051772
         ]
        },
        {
         "line": {
          "color": "rgb(25,130,196)",
          "width": 3
         },
         "mode": "lines",
         "name": "left_ankle_to_end",
         "type": "scatter3d",
         "uid": "e5bc679e-4e92-4f99-98ec-f38c6e5520f6",
         "x": [
          -0.06344052201747377,
          -0.010502005967879667
         ],
         "y": [
          0.0335548077860639,
          -0.005532991781313883
         ],
         "z": [
          0.22176783163051772,
          0.39309686651619347
         ]
        }
       ],
       "layout": {
        "height": 600,
        "scene": {
         "aspectmode": "data"
        },
        "template": {
         "data": {
          "bar": [
           {
            "error_x": {
             "color": "#2a3f5f"
            },
            "error_y": {
             "color": "#2a3f5f"
            },
            "marker": {
             "line": {
              "color": "#E5ECF6",
              "width": 0.5
             },
             "pattern": {
              "fillmode": "overlay",
              "size": 10,
              "solidity": 0.2
             }
            },
            "type": "bar"
           }
          ],
          "barpolar": [
           {
            "marker": {
             "line": {
              "color": "#E5ECF6",
              "width": 0.5
             },
             "pattern": {
              "fillmode": "overlay",
              "size": 10,
              "solidity": 0.2
             }
            },
            "type": "barpolar"
           }
          ],
          "carpet": [
           {
            "aaxis": {
             "endlinecolor": "#2a3f5f",
             "gridcolor": "white",
             "linecolor": "white",
             "minorgridcolor": "white",
             "startlinecolor": "#2a3f5f"
            },
            "baxis": {
             "endlinecolor": "#2a3f5f",
             "gridcolor": "white",
             "linecolor": "white",
             "minorgridcolor": "white",
             "startlinecolor": "#2a3f5f"
            },
            "type": "carpet"
           }
          ],
          "choropleth": [
           {
            "colorbar": {
             "outlinewidth": 0,
             "ticks": ""
            },
            "type": "choropleth"
           }
          ],
          "contour": [
           {
            "colorbar": {
             "outlinewidth": 0,
             "ticks": ""
            },
            "colorscale": [
             [
              0,
              "#0d0887"
             ],
             [
              0.1111111111111111,
              "#46039f"
             ],
             [
              0.2222222222222222,
              "#7201a8"
             ],
             [
              0.3333333333333333,
              "#9c179e"
             ],
             [
              0.4444444444444444,
              "#bd3786"
             ],
             [
              0.5555555555555556,
              "#d8576b"
             ],
             [
              0.6666666666666666,
              "#ed7953"
             ],
             [
              0.7777777777777778,
              "#fb9f3a"
             ],
             [
              0.8888888888888888,
              "#fdca26"
             ],
             [
              1,
              "#f0f921"
             ]
            ],
            "type": "contour"
           }
          ],
          "contourcarpet": [
           {
            "colorbar": {
             "outlinewidth": 0,
             "ticks": ""
            },
            "type": "contourcarpet"
           }
          ],
          "heatmap": [
           {
            "colorbar": {
             "outlinewidth": 0,
             "ticks": ""
            },
            "colorscale": [
             [
              0,
              "#0d0887"
             ],
             [
              0.1111111111111111,
              "#46039f"
             ],
             [
              0.2222222222222222,
              "#7201a8"
             ],
             [
              0.3333333333333333,
              "#9c179e"
             ],
             [
              0.4444444444444444,
              "#bd3786"
             ],
             [
              0.5555555555555556,
              "#d8576b"
             ],
             [
              0.6666666666666666,
              "#ed7953"
             ],
             [
              0.7777777777777778,
              "#fb9f3a"
             ],
             [
              0.8888888888888888,
              "#fdca26"
             ],
             [
              1,
              "#f0f921"
             ]
            ],
            "type": "heatmap"
           }
          ],
          "heatmapgl": [
           {
            "colorbar": {
             "outlinewidth": 0,
             "ticks": ""
            },
            "colorscale": [
             [
              0,
              "#0d0887"
             ],
             [
              0.1111111111111111,
              "#46039f"
             ],
             [
              0.2222222222222222,
              "#7201a8"
             ],
             [
              0.3333333333333333,
              "#9c179e"
             ],
             [
              0.4444444444444444,
              "#bd3786"
             ],
             [
              0.5555555555555556,
              "#d8576b"
             ],
             [
              0.6666666666666666,
              "#ed7953"
             ],
             [
              0.7777777777777778,
              "#fb9f3a"
             ],
             [
              0.8888888888888888,
              "#fdca26"
             ],
             [
              1,
              "#f0f921"
             ]
            ],
            "type": "heatmapgl"
           }
          ],
          "histogram": [
           {
            "marker": {
             "pattern": {
              "fillmode": "overlay",
              "size": 10,
              "solidity": 0.2
             }
            },
            "type": "histogram"
           }
          ],
          "histogram2d": [
           {
            "colorbar": {
             "outlinewidth": 0,
             "ticks": ""
            },
            "colorscale": [
             [
              0,
              "#0d0887"
             ],
             [
              0.1111111111111111,
              "#46039f"
             ],
             [
              0.2222222222222222,
              "#7201a8"
             ],
             [
              0.3333333333333333,
              "#9c179e"
             ],
             [
              0.4444444444444444,
              "#bd3786"
             ],
             [
              0.5555555555555556,
              "#d8576b"
             ],
             [
              0.6666666666666666,
              "#ed7953"
             ],
             [
              0.7777777777777778,
              "#fb9f3a"
             ],
             [
              0.8888888888888888,
              "#fdca26"
             ],
             [
              1,
              "#f0f921"
             ]
            ],
            "type": "histogram2d"
           }
          ],
          "histogram2dcontour": [
           {
            "colorbar": {
             "outlinewidth": 0,
             "ticks": ""
            },
            "colorscale": [
             [
              0,
              "#0d0887"
             ],
             [
              0.1111111111111111,
              "#46039f"
             ],
             [
              0.2222222222222222,
              "#7201a8"
             ],
             [
              0.3333333333333333,
              "#9c179e"
             ],
             [
              0.4444444444444444,
              "#bd3786"
             ],
             [
              0.5555555555555556,
              "#d8576b"
             ],
             [
              0.6666666666666666,
              "#ed7953"
             ],
             [
              0.7777777777777778,
              "#fb9f3a"
             ],
             [
              0.8888888888888888,
              "#fdca26"
             ],
             [
              1,
              "#f0f921"
             ]
            ],
            "type": "histogram2dcontour"
           }
          ],
          "mesh3d": [
           {
            "colorbar": {
             "outlinewidth": 0,
             "ticks": ""
            },
            "type": "mesh3d"
           }
          ],
          "parcoords": [
           {
            "line": {
             "colorbar": {
              "outlinewidth": 0,
              "ticks": ""
             }
            },
            "type": "parcoords"
           }
          ],
          "pie": [
           {
            "automargin": true,
            "type": "pie"
           }
          ],
          "scatter": [
           {
            "fillpattern": {
             "fillmode": "overlay",
             "size": 10,
             "solidity": 0.2
            },
            "type": "scatter"
           }
          ],
          "scatter3d": [
           {
            "line": {
             "colorbar": {
              "outlinewidth": 0,
              "ticks": ""
             }
            },
            "marker": {
             "colorbar": {
              "outlinewidth": 0,
              "ticks": ""
             }
            },
            "type": "scatter3d"
           }
          ],
          "scattercarpet": [
           {
            "marker": {
             "colorbar": {
              "outlinewidth": 0,
              "ticks": ""
             }
            },
            "type": "scattercarpet"
           }
          ],
          "scattergeo": [
           {
            "marker": {
             "colorbar": {
              "outlinewidth": 0,
              "ticks": ""
             }
            },
            "type": "scattergeo"
           }
          ],
          "scattergl": [
           {
            "marker": {
             "colorbar": {
              "outlinewidth": 0,
              "ticks": ""
             }
            },
            "type": "scattergl"
           }
          ],
          "scattermapbox": [
           {
            "marker": {
             "colorbar": {
              "outlinewidth": 0,
              "ticks": ""
             }
            },
            "type": "scattermapbox"
           }
          ],
          "scatterpolar": [
           {
            "marker": {
             "colorbar": {
              "outlinewidth": 0,
              "ticks": ""
             }
            },
            "type": "scatterpolar"
           }
          ],
          "scatterpolargl": [
           {
            "marker": {
             "colorbar": {
              "outlinewidth": 0,
              "ticks": ""
             }
            },
            "type": "scatterpolargl"
           }
          ],
          "scatterternary": [
           {
            "marker": {
             "colorbar": {
              "outlinewidth": 0,
              "ticks": ""
             }
            },
            "type": "scatterternary"
           }
          ],
          "surface": [
           {
            "colorbar": {
             "outlinewidth": 0,
             "ticks": ""
            },
            "colorscale": [
             [
              0,
              "#0d0887"
             ],
             [
              0.1111111111111111,
              "#46039f"
             ],
             [
              0.2222222222222222,
              "#7201a8"
             ],
             [
              0.3333333333333333,
              "#9c179e"
             ],
             [
              0.4444444444444444,
              "#bd3786"
             ],
             [
              0.5555555555555556,
              "#d8576b"
             ],
             [
              0.6666666666666666,
              "#ed7953"
             ],
             [
              0.7777777777777778,
              "#fb9f3a"
             ],
             [
              0.8888888888888888,
              "#fdca26"
             ],
             [
              1,
              "#f0f921"
             ]
            ],
            "type": "surface"
           }
          ],
          "table": [
           {
            "cells": {
             "fill": {
              "color": "#EBF0F8"
             },
             "line": {
              "color": "white"
             }
            },
            "header": {
             "fill": {
              "color": "#C8D4E3"
             },
             "line": {
              "color": "white"
             }
            },
            "type": "table"
           }
          ]
         },
         "layout": {
          "annotationdefaults": {
           "arrowcolor": "#2a3f5f",
           "arrowhead": 0,
           "arrowwidth": 1
          },
          "autotypenumbers": "strict",
          "coloraxis": {
           "colorbar": {
            "outlinewidth": 0,
            "ticks": ""
           }
          },
          "colorscale": {
           "diverging": [
            [
             0,
             "#8e0152"
            ],
            [
             0.1,
             "#c51b7d"
            ],
            [
             0.2,
             "#de77ae"
            ],
            [
             0.3,
             "#f1b6da"
            ],
            [
             0.4,
             "#fde0ef"
            ],
            [
             0.5,
             "#f7f7f7"
            ],
            [
             0.6,
             "#e6f5d0"
            ],
            [
             0.7,
             "#b8e186"
            ],
            [
             0.8,
             "#7fbc41"
            ],
            [
             0.9,
             "#4d9221"
            ],
            [
             1,
             "#276419"
            ]
           ],
           "sequential": [
            [
             0,
             "#0d0887"
            ],
            [
             0.1111111111111111,
             "#46039f"
            ],
            [
             0.2222222222222222,
             "#7201a8"
            ],
            [
             0.3333333333333333,
             "#9c179e"
            ],
            [
             0.4444444444444444,
             "#bd3786"
            ],
            [
             0.5555555555555556,
             "#d8576b"
            ],
            [
             0.6666666666666666,
             "#ed7953"
            ],
            [
             0.7777777777777778,
             "#fb9f3a"
            ],
            [
             0.8888888888888888,
             "#fdca26"
            ],
            [
             1,
             "#f0f921"
            ]
           ],
           "sequentialminus": [
            [
             0,
             "#0d0887"
            ],
            [
             0.1111111111111111,
             "#46039f"
            ],
            [
             0.2222222222222222,
             "#7201a8"
            ],
            [
             0.3333333333333333,
             "#9c179e"
            ],
            [
             0.4444444444444444,
             "#bd3786"
            ],
            [
             0.5555555555555556,
             "#d8576b"
            ],
            [
             0.6666666666666666,
             "#ed7953"
            ],
            [
             0.7777777777777778,
             "#fb9f3a"
            ],
            [
             0.8888888888888888,
             "#fdca26"
            ],
            [
             1,
             "#f0f921"
            ]
           ]
          },
          "colorway": [
           "#636efa",
           "#EF553B",
           "#00cc96",
           "#ab63fa",
           "#FFA15A",
           "#19d3f3",
           "#FF6692",
           "#B6E880",
           "#FF97FF",
           "#FECB52"
          ],
          "font": {
           "color": "#2a3f5f"
          },
          "geo": {
           "bgcolor": "white",
           "lakecolor": "white",
           "landcolor": "#E5ECF6",
           "showlakes": true,
           "showland": true,
           "subunitcolor": "white"
          },
          "hoverlabel": {
           "align": "left"
          },
          "hovermode": "closest",
          "mapbox": {
           "style": "light"
          },
          "paper_bgcolor": "white",
          "plot_bgcolor": "#E5ECF6",
          "polar": {
           "angularaxis": {
            "gridcolor": "white",
            "linecolor": "white",
            "ticks": ""
           },
           "bgcolor": "#E5ECF6",
           "radialaxis": {
            "gridcolor": "white",
            "linecolor": "white",
            "ticks": ""
           }
          },
          "scene": {
           "xaxis": {
            "backgroundcolor": "#E5ECF6",
            "gridcolor": "white",
            "gridwidth": 2,
            "linecolor": "white",
            "showbackground": true,
            "ticks": "",
            "zerolinecolor": "white"
           },
           "yaxis": {
            "backgroundcolor": "#E5ECF6",
            "gridcolor": "white",
            "gridwidth": 2,
            "linecolor": "white",
            "showbackground": true,
            "ticks": "",
            "zerolinecolor": "white"
           },
           "zaxis": {
            "backgroundcolor": "#E5ECF6",
            "gridcolor": "white",
            "gridwidth": 2,
            "linecolor": "white",
            "showbackground": true,
            "ticks": "",
            "zerolinecolor": "white"
           }
          },
          "shapedefaults": {
           "line": {
            "color": "#2a3f5f"
           }
          },
          "ternary": {
           "aaxis": {
            "gridcolor": "white",
            "linecolor": "white",
            "ticks": ""
           },
           "baxis": {
            "gridcolor": "white",
            "linecolor": "white",
            "ticks": ""
           },
           "bgcolor": "#E5ECF6",
           "caxis": {
            "gridcolor": "white",
            "linecolor": "white",
            "ticks": ""
           }
          },
          "title": {
           "x": 0.05
          },
          "xaxis": {
           "automargin": true,
           "gridcolor": "white",
           "linecolor": "white",
           "ticks": "",
           "title": {
            "standoff": 15
           },
           "zerolinecolor": "white",
           "zerolinewidth": 2
          },
          "yaxis": {
           "automargin": true,
           "gridcolor": "white",
           "linecolor": "white",
           "ticks": "",
           "title": {
            "standoff": 15
           },
           "zerolinecolor": "white",
           "zerolinewidth": 2
          }
         }
        }
       }
      }
     },
     "metadata": {},
     "output_type": "display_data"
    },
    {
     "data": {
      "text/plain": [
       "None"
      ]
     },
     "metadata": {},
     "output_type": "display_data"
    }
   ],
   "source": [
    "from IPython.display import display, DisplayHandle\n",
    "\n",
    "hdl:Optional[DisplayHandle] = None\n",
    "is_first = True\n",
    "fw = go.FigureWidget()\n",
    "def plot_frame(sk: Skeleton, index: int):\n",
    "    global fw\n",
    "    global is_first\n",
    "    frames = sk.total_frames\n",
    "    assert 0 <= index < frames, f\"index must be between 0 and {frames - 1} inclusive but got {index}; frames={frames}\"\n",
    "    fig = go.Figure()\n",
    "\n",
    "\n",
    "    scatters = [j.create_scatter(index) for j in sk.joints]\n",
    "    lines = [b.create_lines(index) for b in sk.bones]\n",
    "\n",
    "    \n",
    "    fig.add_traces(scatters + lines)\n",
    "    # if there's a JavaScript error\n",
    "    # restart Visual Studio Code (or use `.show()` method?)\n",
    "    if is_first:\n",
    "        is_first = False\n",
    "    else:\n",
    "        assert hdl is not None, \"hdl must be initialized\"\n",
    "        fw = go.FigureWidget(fig)\n",
    "        # https://stackoverflow.com/questions/52863305/plotly-scatter3d-how-can-i-force-3d-axes-to-have-the-same-scale-aspect-ratio\n",
    "        fw.update_layout(height=600, scene=dict(aspectmode=\"data\"))\n",
    "        fw.show()\n",
    "        hdl.update(None)\n",
    "\n",
    "slider = widgets.IntSlider(min=0,\n",
    "                           max=sk.total_frames - 1,\n",
    "                           step=1,\n",
    "                           value=0,\n",
    "                           continue_update=False)\n",
    "\n",
    "p = interactive(plot_frame, sk=fixed(sk_f), index=slider)\n",
    "display(p, clear=True)\n",
    "hdl = display(fw, display_id=True)"
   ]
  },
  {
   "cell_type": "code",
   "execution_count": null,
   "metadata": {},
   "outputs": [],
   "source": []
  }
 ],
 "metadata": {
  "kernelspec": {
   "display_name": "mmpose",
   "language": "python",
   "name": "python3"
  },
  "language_info": {
   "codemirror_mode": {
    "name": "ipython",
    "version": 3
   },
   "file_extension": ".py",
   "mimetype": "text/x-python",
   "name": "python",
   "nbconvert_exporter": "python",
   "pygments_lexer": "ipython3",
   "version": "3.11.5"
  }
 },
 "nbformat": 4,
 "nbformat_minor": 2
}
